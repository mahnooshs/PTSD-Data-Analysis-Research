{
 "cells": [
  {
   "cell_type": "code",
   "execution_count": 1,
   "metadata": {},
   "outputs": [
    {
     "name": "stderr",
     "output_type": "stream",
     "text": [
      "Using TensorFlow backend.\n",
      "//miniconda3/envs/PTSD/lib/python3.7/site-packages/tensorflow/python/framework/dtypes.py:516: FutureWarning: Passing (type, 1) or '1type' as a synonym of type is deprecated; in a future version of numpy, it will be understood as (type, (1,)) / '(1,)type'.\n",
      "  _np_qint8 = np.dtype([(\"qint8\", np.int8, 1)])\n",
      "//miniconda3/envs/PTSD/lib/python3.7/site-packages/tensorflow/python/framework/dtypes.py:517: FutureWarning: Passing (type, 1) or '1type' as a synonym of type is deprecated; in a future version of numpy, it will be understood as (type, (1,)) / '(1,)type'.\n",
      "  _np_quint8 = np.dtype([(\"quint8\", np.uint8, 1)])\n",
      "//miniconda3/envs/PTSD/lib/python3.7/site-packages/tensorflow/python/framework/dtypes.py:518: FutureWarning: Passing (type, 1) or '1type' as a synonym of type is deprecated; in a future version of numpy, it will be understood as (type, (1,)) / '(1,)type'.\n",
      "  _np_qint16 = np.dtype([(\"qint16\", np.int16, 1)])\n",
      "//miniconda3/envs/PTSD/lib/python3.7/site-packages/tensorflow/python/framework/dtypes.py:519: FutureWarning: Passing (type, 1) or '1type' as a synonym of type is deprecated; in a future version of numpy, it will be understood as (type, (1,)) / '(1,)type'.\n",
      "  _np_quint16 = np.dtype([(\"quint16\", np.uint16, 1)])\n",
      "//miniconda3/envs/PTSD/lib/python3.7/site-packages/tensorflow/python/framework/dtypes.py:520: FutureWarning: Passing (type, 1) or '1type' as a synonym of type is deprecated; in a future version of numpy, it will be understood as (type, (1,)) / '(1,)type'.\n",
      "  _np_qint32 = np.dtype([(\"qint32\", np.int32, 1)])\n",
      "//miniconda3/envs/PTSD/lib/python3.7/site-packages/tensorflow/python/framework/dtypes.py:525: FutureWarning: Passing (type, 1) or '1type' as a synonym of type is deprecated; in a future version of numpy, it will be understood as (type, (1,)) / '(1,)type'.\n",
      "  np_resource = np.dtype([(\"resource\", np.ubyte, 1)])\n",
      "//miniconda3/envs/PTSD/lib/python3.7/site-packages/tensorboard/compat/tensorflow_stub/dtypes.py:541: FutureWarning: Passing (type, 1) or '1type' as a synonym of type is deprecated; in a future version of numpy, it will be understood as (type, (1,)) / '(1,)type'.\n",
      "  _np_qint8 = np.dtype([(\"qint8\", np.int8, 1)])\n",
      "//miniconda3/envs/PTSD/lib/python3.7/site-packages/tensorboard/compat/tensorflow_stub/dtypes.py:542: FutureWarning: Passing (type, 1) or '1type' as a synonym of type is deprecated; in a future version of numpy, it will be understood as (type, (1,)) / '(1,)type'.\n",
      "  _np_quint8 = np.dtype([(\"quint8\", np.uint8, 1)])\n",
      "//miniconda3/envs/PTSD/lib/python3.7/site-packages/tensorboard/compat/tensorflow_stub/dtypes.py:543: FutureWarning: Passing (type, 1) or '1type' as a synonym of type is deprecated; in a future version of numpy, it will be understood as (type, (1,)) / '(1,)type'.\n",
      "  _np_qint16 = np.dtype([(\"qint16\", np.int16, 1)])\n",
      "//miniconda3/envs/PTSD/lib/python3.7/site-packages/tensorboard/compat/tensorflow_stub/dtypes.py:544: FutureWarning: Passing (type, 1) or '1type' as a synonym of type is deprecated; in a future version of numpy, it will be understood as (type, (1,)) / '(1,)type'.\n",
      "  _np_quint16 = np.dtype([(\"quint16\", np.uint16, 1)])\n",
      "//miniconda3/envs/PTSD/lib/python3.7/site-packages/tensorboard/compat/tensorflow_stub/dtypes.py:545: FutureWarning: Passing (type, 1) or '1type' as a synonym of type is deprecated; in a future version of numpy, it will be understood as (type, (1,)) / '(1,)type'.\n",
      "  _np_qint32 = np.dtype([(\"qint32\", np.int32, 1)])\n",
      "//miniconda3/envs/PTSD/lib/python3.7/site-packages/tensorboard/compat/tensorflow_stub/dtypes.py:550: FutureWarning: Passing (type, 1) or '1type' as a synonym of type is deprecated; in a future version of numpy, it will be understood as (type, (1,)) / '(1,)type'.\n",
      "  np_resource = np.dtype([(\"resource\", np.ubyte, 1)])\n"
     ]
    }
   ],
   "source": [
    "import numpy as np\n",
    "import pandas as pd\n",
    "%matplotlib inline\n",
    "import glob\n",
    "import keras\n",
    "from functools import reduce\n",
    "import xgboost\n",
    "from xgboost import XGBClassifier"
   ]
  },
  {
   "cell_type": "code",
   "execution_count": 2,
   "metadata": {},
   "outputs": [],
   "source": [
    "frame1=pd.read_csv('/Users/mahnooshsadeghi/Desktop/PTSD/PTSD Data/HR Features/HR and HRV Features Correct_dataframe.csv')"
   ]
  },
  {
   "cell_type": "code",
   "execution_count": 3,
   "metadata": {},
   "outputs": [],
   "source": [
    "frame2=pd.read_csv('/Users/mahnooshsadeghi/Desktop/PTSD/PTSD Data/Linear Accerelation Features/Linear Accerelation Features_dataframe.csv')"
   ]
  },
  {
   "cell_type": "code",
   "execution_count": 4,
   "metadata": {},
   "outputs": [],
   "source": [
    "frame3=pd.read_csv('/Users/mahnooshsadeghi/Desktop/PTSD/PTSD Data/Angular Accerelation Features/Angular Accerelation Features_dataframe.csv')"
   ]
  },
  {
   "cell_type": "code",
   "execution_count": 5,
   "metadata": {},
   "outputs": [],
   "source": [
    "frame2=frame2.rename(columns={\"ptsd_moment\": \"stress\"})\n",
    "frame3=frame3.rename(columns={\"ptsd_moment\": \"stress\"})"
   ]
  },
  {
   "cell_type": "code",
   "execution_count": 6,
   "metadata": {},
   "outputs": [],
   "source": [
    "result = pd.merge(frame1,frame2,on=[\"participant\", \"windowno\", 'stress'])\n",
    "frame= pd.merge(result,frame3,on=[\"participant\", \"windowno\", 'stress'])"
   ]
  },
  {
   "cell_type": "code",
   "execution_count": 7,
   "metadata": {},
   "outputs": [
    {
     "data": {
      "text/html": [
       "<div>\n",
       "<style scoped>\n",
       "    .dataframe tbody tr th:only-of-type {\n",
       "        vertical-align: middle;\n",
       "    }\n",
       "\n",
       "    .dataframe tbody tr th {\n",
       "        vertical-align: top;\n",
       "    }\n",
       "\n",
       "    .dataframe thead th {\n",
       "        text-align: right;\n",
       "    }\n",
       "</style>\n",
       "<table border=\"1\" class=\"dataframe\">\n",
       "  <thead>\n",
       "    <tr style=\"text-align: right;\">\n",
       "      <th></th>\n",
       "      <th>mean_nni</th>\n",
       "      <th>sdnn</th>\n",
       "      <th>sdsd</th>\n",
       "      <th>nni_50</th>\n",
       "      <th>pnni_50</th>\n",
       "      <th>nni_20</th>\n",
       "      <th>pnni_20</th>\n",
       "      <th>rmssd</th>\n",
       "      <th>median_nni</th>\n",
       "      <th>range_nni</th>\n",
       "      <th>...</th>\n",
       "      <th>acc_zmin</th>\n",
       "      <th>acc_xmax</th>\n",
       "      <th>acc_ymax</th>\n",
       "      <th>acc_zmax</th>\n",
       "      <th>acc_xsd</th>\n",
       "      <th>acc_ysd</th>\n",
       "      <th>acc_zsd</th>\n",
       "      <th>acc_xrange</th>\n",
       "      <th>acc_yrange</th>\n",
       "      <th>acc_zrange</th>\n",
       "    </tr>\n",
       "  </thead>\n",
       "  <tbody>\n",
       "    <tr>\n",
       "      <td>0</td>\n",
       "      <td>901.300934</td>\n",
       "      <td>41.260657</td>\n",
       "      <td>15.314909</td>\n",
       "      <td>1</td>\n",
       "      <td>1.666667</td>\n",
       "      <td>6</td>\n",
       "      <td>10.000000</td>\n",
       "      <td>15.322961</td>\n",
       "      <td>895.522388</td>\n",
       "      <td>145.824127</td>\n",
       "      <td>...</td>\n",
       "      <td>6.919243</td>\n",
       "      <td>5.707777</td>\n",
       "      <td>5.640739</td>\n",
       "      <td>9.809045</td>\n",
       "      <td>1.861203</td>\n",
       "      <td>1.086771</td>\n",
       "      <td>0.560615</td>\n",
       "      <td>4.946421</td>\n",
       "      <td>5.111621</td>\n",
       "      <td>2.889802</td>\n",
       "    </tr>\n",
       "    <tr>\n",
       "      <td>1</td>\n",
       "      <td>838.351222</td>\n",
       "      <td>54.519109</td>\n",
       "      <td>6.919900</td>\n",
       "      <td>0</td>\n",
       "      <td>0.000000</td>\n",
       "      <td>1</td>\n",
       "      <td>1.666667</td>\n",
       "      <td>7.614755</td>\n",
       "      <td>851.106640</td>\n",
       "      <td>187.500000</td>\n",
       "      <td>...</td>\n",
       "      <td>0.636858</td>\n",
       "      <td>7.386112</td>\n",
       "      <td>10.220847</td>\n",
       "      <td>9.885658</td>\n",
       "      <td>2.080554</td>\n",
       "      <td>3.371106</td>\n",
       "      <td>3.236376</td>\n",
       "      <td>7.046136</td>\n",
       "      <td>9.303867</td>\n",
       "      <td>9.248801</td>\n",
       "    </tr>\n",
       "    <tr>\n",
       "      <td>2</td>\n",
       "      <td>700.978066</td>\n",
       "      <td>23.307441</td>\n",
       "      <td>5.769311</td>\n",
       "      <td>0</td>\n",
       "      <td>0.000000</td>\n",
       "      <td>1</td>\n",
       "      <td>2.000000</td>\n",
       "      <td>5.822111</td>\n",
       "      <td>697.674419</td>\n",
       "      <td>72.366658</td>\n",
       "      <td>...</td>\n",
       "      <td>0.495600</td>\n",
       "      <td>11.070788</td>\n",
       "      <td>10.273519</td>\n",
       "      <td>6.069301</td>\n",
       "      <td>3.759313</td>\n",
       "      <td>3.459381</td>\n",
       "      <td>1.228866</td>\n",
       "      <td>10.498574</td>\n",
       "      <td>9.588777</td>\n",
       "      <td>5.573701</td>\n",
       "    </tr>\n",
       "    <tr>\n",
       "      <td>3</td>\n",
       "      <td>676.615466</td>\n",
       "      <td>17.752883</td>\n",
       "      <td>5.051157</td>\n",
       "      <td>0</td>\n",
       "      <td>0.000000</td>\n",
       "      <td>0</td>\n",
       "      <td>0.000000</td>\n",
       "      <td>5.051157</td>\n",
       "      <td>674.157303</td>\n",
       "      <td>53.708440</td>\n",
       "      <td>...</td>\n",
       "      <td>0.509965</td>\n",
       "      <td>10.192116</td>\n",
       "      <td>10.330980</td>\n",
       "      <td>9.856929</td>\n",
       "      <td>3.415119</td>\n",
       "      <td>3.281564</td>\n",
       "      <td>3.509966</td>\n",
       "      <td>9.940725</td>\n",
       "      <td>9.742007</td>\n",
       "      <td>9.346964</td>\n",
       "    </tr>\n",
       "    <tr>\n",
       "      <td>4</td>\n",
       "      <td>713.850011</td>\n",
       "      <td>40.319575</td>\n",
       "      <td>3.397830</td>\n",
       "      <td>0</td>\n",
       "      <td>0.000000</td>\n",
       "      <td>0</td>\n",
       "      <td>0.000000</td>\n",
       "      <td>4.581899</td>\n",
       "      <td>701.778386</td>\n",
       "      <td>119.880120</td>\n",
       "      <td>...</td>\n",
       "      <td>0.519542</td>\n",
       "      <td>9.770737</td>\n",
       "      <td>10.041282</td>\n",
       "      <td>7.189788</td>\n",
       "      <td>3.292521</td>\n",
       "      <td>2.005847</td>\n",
       "      <td>2.147173</td>\n",
       "      <td>9.418790</td>\n",
       "      <td>7.886500</td>\n",
       "      <td>6.670246</td>\n",
       "    </tr>\n",
       "    <tr>\n",
       "      <td>...</td>\n",
       "      <td>...</td>\n",
       "      <td>...</td>\n",
       "      <td>...</td>\n",
       "      <td>...</td>\n",
       "      <td>...</td>\n",
       "      <td>...</td>\n",
       "      <td>...</td>\n",
       "      <td>...</td>\n",
       "      <td>...</td>\n",
       "      <td>...</td>\n",
       "      <td>...</td>\n",
       "      <td>...</td>\n",
       "      <td>...</td>\n",
       "      <td>...</td>\n",
       "      <td>...</td>\n",
       "      <td>...</td>\n",
       "      <td>...</td>\n",
       "      <td>...</td>\n",
       "      <td>...</td>\n",
       "      <td>...</td>\n",
       "      <td>...</td>\n",
       "    </tr>\n",
       "    <tr>\n",
       "      <td>13339</td>\n",
       "      <td>966.289428</td>\n",
       "      <td>40.660031</td>\n",
       "      <td>12.717445</td>\n",
       "      <td>0</td>\n",
       "      <td>0.000000</td>\n",
       "      <td>6</td>\n",
       "      <td>11.764706</td>\n",
       "      <td>12.740265</td>\n",
       "      <td>983.606557</td>\n",
       "      <td>107.858243</td>\n",
       "      <td>...</td>\n",
       "      <td>2.925715</td>\n",
       "      <td>9.653421</td>\n",
       "      <td>0.675165</td>\n",
       "      <td>2.940080</td>\n",
       "      <td>0.002215</td>\n",
       "      <td>0.004644</td>\n",
       "      <td>0.002972</td>\n",
       "      <td>0.009576</td>\n",
       "      <td>0.019154</td>\n",
       "      <td>0.014365</td>\n",
       "    </tr>\n",
       "    <tr>\n",
       "      <td>13340</td>\n",
       "      <td>953.496975</td>\n",
       "      <td>39.365731</td>\n",
       "      <td>13.197977</td>\n",
       "      <td>1</td>\n",
       "      <td>1.666667</td>\n",
       "      <td>4</td>\n",
       "      <td>6.666667</td>\n",
       "      <td>13.219671</td>\n",
       "      <td>952.380952</td>\n",
       "      <td>138.960371</td>\n",
       "      <td>...</td>\n",
       "      <td>2.925715</td>\n",
       "      <td>9.653421</td>\n",
       "      <td>0.679953</td>\n",
       "      <td>2.935291</td>\n",
       "      <td>0.002491</td>\n",
       "      <td>0.003073</td>\n",
       "      <td>0.002202</td>\n",
       "      <td>0.009576</td>\n",
       "      <td>0.009577</td>\n",
       "      <td>0.009577</td>\n",
       "    </tr>\n",
       "    <tr>\n",
       "      <td>13341</td>\n",
       "      <td>544.572675</td>\n",
       "      <td>11.348862</td>\n",
       "      <td>2.583908</td>\n",
       "      <td>0</td>\n",
       "      <td>0.000000</td>\n",
       "      <td>0</td>\n",
       "      <td>0.000000</td>\n",
       "      <td>2.656126</td>\n",
       "      <td>540.540541</td>\n",
       "      <td>40.455120</td>\n",
       "      <td>...</td>\n",
       "      <td>0.375890</td>\n",
       "      <td>8.786720</td>\n",
       "      <td>10.477027</td>\n",
       "      <td>8.916007</td>\n",
       "      <td>3.077231</td>\n",
       "      <td>2.257510</td>\n",
       "      <td>2.534541</td>\n",
       "      <td>8.621520</td>\n",
       "      <td>8.599973</td>\n",
       "      <td>8.540117</td>\n",
       "    </tr>\n",
       "    <tr>\n",
       "      <td>13342</td>\n",
       "      <td>631.098070</td>\n",
       "      <td>17.112727</td>\n",
       "      <td>3.716191</td>\n",
       "      <td>0</td>\n",
       "      <td>0.000000</td>\n",
       "      <td>0</td>\n",
       "      <td>0.000000</td>\n",
       "      <td>3.762925</td>\n",
       "      <td>625.000000</td>\n",
       "      <td>47.095761</td>\n",
       "      <td>...</td>\n",
       "      <td>0.732626</td>\n",
       "      <td>8.559271</td>\n",
       "      <td>8.956709</td>\n",
       "      <td>9.284714</td>\n",
       "      <td>2.655217</td>\n",
       "      <td>1.988869</td>\n",
       "      <td>2.832968</td>\n",
       "      <td>8.434773</td>\n",
       "      <td>6.797139</td>\n",
       "      <td>8.552088</td>\n",
       "    </tr>\n",
       "    <tr>\n",
       "      <td>13343</td>\n",
       "      <td>595.015735</td>\n",
       "      <td>82.700906</td>\n",
       "      <td>29.281454</td>\n",
       "      <td>2</td>\n",
       "      <td>3.333333</td>\n",
       "      <td>3</td>\n",
       "      <td>5.000000</td>\n",
       "      <td>30.021352</td>\n",
       "      <td>568.733154</td>\n",
       "      <td>432.027650</td>\n",
       "      <td>...</td>\n",
       "      <td>1.096544</td>\n",
       "      <td>9.538500</td>\n",
       "      <td>3.806781</td>\n",
       "      <td>10.963050</td>\n",
       "      <td>2.033318</td>\n",
       "      <td>0.827729</td>\n",
       "      <td>1.872770</td>\n",
       "      <td>6.904878</td>\n",
       "      <td>3.588908</td>\n",
       "      <td>9.866505</td>\n",
       "    </tr>\n",
       "  </tbody>\n",
       "</table>\n",
       "<p>13344 rows × 43 columns</p>\n",
       "</div>"
      ],
      "text/plain": [
       "         mean_nni       sdnn       sdsd  nni_50   pnni_50  nni_20    pnni_20  \\\n",
       "0      901.300934  41.260657  15.314909       1  1.666667       6  10.000000   \n",
       "1      838.351222  54.519109   6.919900       0  0.000000       1   1.666667   \n",
       "2      700.978066  23.307441   5.769311       0  0.000000       1   2.000000   \n",
       "3      676.615466  17.752883   5.051157       0  0.000000       0   0.000000   \n",
       "4      713.850011  40.319575   3.397830       0  0.000000       0   0.000000   \n",
       "...           ...        ...        ...     ...       ...     ...        ...   \n",
       "13339  966.289428  40.660031  12.717445       0  0.000000       6  11.764706   \n",
       "13340  953.496975  39.365731  13.197977       1  1.666667       4   6.666667   \n",
       "13341  544.572675  11.348862   2.583908       0  0.000000       0   0.000000   \n",
       "13342  631.098070  17.112727   3.716191       0  0.000000       0   0.000000   \n",
       "13343  595.015735  82.700906  29.281454       2  3.333333       3   5.000000   \n",
       "\n",
       "           rmssd  median_nni   range_nni  ...  acc_zmin   acc_xmax   acc_ymax  \\\n",
       "0      15.322961  895.522388  145.824127  ...  6.919243   5.707777   5.640739   \n",
       "1       7.614755  851.106640  187.500000  ...  0.636858   7.386112  10.220847   \n",
       "2       5.822111  697.674419   72.366658  ...  0.495600  11.070788  10.273519   \n",
       "3       5.051157  674.157303   53.708440  ...  0.509965  10.192116  10.330980   \n",
       "4       4.581899  701.778386  119.880120  ...  0.519542   9.770737  10.041282   \n",
       "...          ...         ...         ...  ...       ...        ...        ...   \n",
       "13339  12.740265  983.606557  107.858243  ...  2.925715   9.653421   0.675165   \n",
       "13340  13.219671  952.380952  138.960371  ...  2.925715   9.653421   0.679953   \n",
       "13341   2.656126  540.540541   40.455120  ...  0.375890   8.786720  10.477027   \n",
       "13342   3.762925  625.000000   47.095761  ...  0.732626   8.559271   8.956709   \n",
       "13343  30.021352  568.733154  432.027650  ...  1.096544   9.538500   3.806781   \n",
       "\n",
       "        acc_zmax   acc_xsd   acc_ysd   acc_zsd  acc_xrange  acc_yrange  \\\n",
       "0       9.809045  1.861203  1.086771  0.560615    4.946421    5.111621   \n",
       "1       9.885658  2.080554  3.371106  3.236376    7.046136    9.303867   \n",
       "2       6.069301  3.759313  3.459381  1.228866   10.498574    9.588777   \n",
       "3       9.856929  3.415119  3.281564  3.509966    9.940725    9.742007   \n",
       "4       7.189788  3.292521  2.005847  2.147173    9.418790    7.886500   \n",
       "...          ...       ...       ...       ...         ...         ...   \n",
       "13339   2.940080  0.002215  0.004644  0.002972    0.009576    0.019154   \n",
       "13340   2.935291  0.002491  0.003073  0.002202    0.009576    0.009577   \n",
       "13341   8.916007  3.077231  2.257510  2.534541    8.621520    8.599973   \n",
       "13342   9.284714  2.655217  1.988869  2.832968    8.434773    6.797139   \n",
       "13343  10.963050  2.033318  0.827729  1.872770    6.904878    3.588908   \n",
       "\n",
       "       acc_zrange  \n",
       "0        2.889802  \n",
       "1        9.248801  \n",
       "2        5.573701  \n",
       "3        9.346964  \n",
       "4        6.670246  \n",
       "...           ...  \n",
       "13339    0.014365  \n",
       "13340    0.009577  \n",
       "13341    8.540117  \n",
       "13342    8.552088  \n",
       "13343    9.866505  \n",
       "\n",
       "[13344 rows x 43 columns]"
      ]
     },
     "execution_count": 7,
     "metadata": {},
     "output_type": "execute_result"
    }
   ],
   "source": [
    "frame"
   ]
  },
  {
   "cell_type": "code",
   "execution_count": 8,
   "metadata": {},
   "outputs": [],
   "source": [
    "X= frame[['mean_nni','sdnn','sdsd','nni_50','pnni_50','nni_20','pnni_20','rmssd',\n",
    "          'median_nni','range_nni','cvsd','cvnni','mean_hr',\n",
    "          'max_hr','min_hr','std_hr','hrrange', #'acc_x','acc_y','acc_z','acc_xmin','acc_ymin',\n",
    "          #'acc_zmin','acc_xmax','acc_ymax','acc_zmax','acc_xsd',\n",
    "         # 'acc_ysd','acc_zsd','acc_xrange','acc_yrange','acc_zrange',\n",
    "          'linaccmean','linaccmin','linaccmax','linaccsd', 'linear_accel_x',\n",
    "          'linear_accel_y','linear_accel_z','linaccrange']]\n",
    "#X= frameunder[['acc_x','acc_y','acc_z','linear_accel_x','linear_accel_y','linear_accel_z','linacc','hrmax', 'hrmean','hrmin','hrrange','hrsd']]\n",
    "y= frame[['stress']]"
   ]
  },
  {
   "cell_type": "code",
   "execution_count": 9,
   "metadata": {},
   "outputs": [
    {
     "data": {
      "text/plain": [
       "mean_nni           0\n",
       "sdnn               0\n",
       "sdsd               0\n",
       "nni_50             0\n",
       "pnni_50            0\n",
       "nni_20             0\n",
       "pnni_20            0\n",
       "rmssd              0\n",
       "median_nni         0\n",
       "range_nni          0\n",
       "cvsd               0\n",
       "cvnni              0\n",
       "mean_hr            0\n",
       "max_hr             0\n",
       "min_hr             0\n",
       "std_hr             0\n",
       "stress             0\n",
       "windowno           0\n",
       "participant        0\n",
       "hrrange            0\n",
       "linaccmean        35\n",
       "linaccmin         35\n",
       "linaccmax         35\n",
       "linaccsd          35\n",
       "linear_accel_x    35\n",
       "linear_accel_y    35\n",
       "linear_accel_z    35\n",
       "linaccrange       35\n",
       "acc_x             35\n",
       "acc_y             35\n",
       "acc_z             35\n",
       "acc_xmin          35\n",
       "acc_ymin          35\n",
       "acc_zmin          35\n",
       "acc_xmax          35\n",
       "acc_ymax          35\n",
       "acc_zmax          35\n",
       "acc_xsd           35\n",
       "acc_ysd           35\n",
       "acc_zsd           35\n",
       "acc_xrange        35\n",
       "acc_yrange        35\n",
       "acc_zrange        35\n",
       "dtype: int64"
      ]
     },
     "execution_count": 9,
     "metadata": {},
     "output_type": "execute_result"
    }
   ],
   "source": [
    "frame.isnull().sum()"
   ]
  },
  {
   "cell_type": "code",
   "execution_count": 10,
   "metadata": {},
   "outputs": [],
   "source": [
    "from sklearn.model_selection import train_test_split\n",
    "from sklearn.metrics import accuracy_score\n",
    "X_train, X_test, y_train, y_test = train_test_split(X,y, test_size=0.3, random_state=42)"
   ]
  },
  {
   "cell_type": "code",
   "execution_count": 11,
   "metadata": {},
   "outputs": [],
   "source": [
    "df1 = pd.DataFrame(X_train)"
   ]
  },
  {
   "cell_type": "code",
   "execution_count": 12,
   "metadata": {},
   "outputs": [],
   "source": [
    "df2 = pd.DataFrame(y_train)"
   ]
  },
  {
   "cell_type": "code",
   "execution_count": 13,
   "metadata": {},
   "outputs": [],
   "source": [
    "df = pd.concat([df1, df2], axis=1, sort=True)"
   ]
  },
  {
   "cell_type": "code",
   "execution_count": 14,
   "metadata": {},
   "outputs": [],
   "source": [
    "frame0 = df[df['stress'] ==0]\n",
    "frame1 = df[df['stress'] == 1]"
   ]
  },
  {
   "cell_type": "code",
   "execution_count": 15,
   "metadata": {},
   "outputs": [],
   "source": [
    "count_class_0, count_class_1 = df.stress.value_counts()"
   ]
  },
  {
   "cell_type": "code",
   "execution_count": 16,
   "metadata": {},
   "outputs": [
    {
     "data": {
      "text/plain": [
       "356"
      ]
     },
     "execution_count": 16,
     "metadata": {},
     "output_type": "execute_result"
    }
   ],
   "source": [
    "count_class_1"
   ]
  },
  {
   "cell_type": "code",
   "execution_count": 17,
   "metadata": {},
   "outputs": [],
   "source": [
    "ratio=0.75*count_class_0"
   ]
  },
  {
   "cell_type": "code",
   "execution_count": 18,
   "metadata": {},
   "outputs": [],
   "source": [
    "frame_class_1_over = frame1.sample(int(ratio), replace=True)"
   ]
  },
  {
   "cell_type": "code",
   "execution_count": 19,
   "metadata": {},
   "outputs": [],
   "source": [
    "frameover = pd.concat([frame0, frame_class_1_over], axis=0)"
   ]
  },
  {
   "cell_type": "code",
   "execution_count": 20,
   "metadata": {},
   "outputs": [],
   "source": [
    "X_trainups= frameover[['mean_nni','sdnn','sdsd','nni_50','pnni_50','nni_20','pnni_20','rmssd',\n",
    "          'median_nni','range_nni','cvsd','cvnni','mean_hr',\n",
    "          'max_hr','min_hr','std_hr','hrrange',# 'acc_x','acc_y','acc_z','acc_xmin','acc_ymin',\n",
    "         # 'acc_zmin','acc_xmax','acc_ymax','acc_zmax','acc_xsd',\n",
    "          #'acc_ysd','acc_zsd','acc_xrange','acc_yrange','acc_zrange',\n",
    "          'linaccmean','linaccmin','linaccmax','linaccsd', 'linear_accel_x',\n",
    "          'linear_accel_y','linear_accel_z','linaccrange']]\n",
    "y_trainups= frameover[['stress']]"
   ]
  },
  {
   "cell_type": "code",
   "execution_count": 21,
   "metadata": {},
   "outputs": [],
   "source": [
    "clf= XGBClassifier ()\n"
   ]
  },
  {
   "cell_type": "code",
   "execution_count": 22,
   "metadata": {},
   "outputs": [
    {
     "name": "stderr",
     "output_type": "stream",
     "text": [
      "//miniconda3/envs/PTSD/lib/python3.7/site-packages/sklearn/preprocessing/label.py:219: DataConversionWarning: A column-vector y was passed when a 1d array was expected. Please change the shape of y to (n_samples, ), for example using ravel().\n",
      "  y = column_or_1d(y, warn=True)\n",
      "//miniconda3/envs/PTSD/lib/python3.7/site-packages/sklearn/preprocessing/label.py:252: DataConversionWarning: A column-vector y was passed when a 1d array was expected. Please change the shape of y to (n_samples, ), for example using ravel().\n",
      "  y = column_or_1d(y, warn=True)\n"
     ]
    },
    {
     "data": {
      "text/plain": [
       "XGBClassifier(base_score=0.5, booster='gbtree', colsample_bylevel=1,\n",
       "              colsample_bynode=1, colsample_bytree=1, gamma=0,\n",
       "              learning_rate=0.1, max_delta_step=0, max_depth=3,\n",
       "              min_child_weight=1, missing=None, n_estimators=100, n_jobs=1,\n",
       "              nthread=None, objective='binary:logistic', random_state=0,\n",
       "              reg_alpha=0, reg_lambda=1, scale_pos_weight=1, seed=None,\n",
       "              silent=None, subsample=1, verbosity=1)"
      ]
     },
     "execution_count": 22,
     "metadata": {},
     "output_type": "execute_result"
    }
   ],
   "source": [
    "clf.fit(X_trainups,y_trainups)"
   ]
  },
  {
   "cell_type": "code",
   "execution_count": 23,
   "metadata": {},
   "outputs": [
    {
     "name": "stdout",
     "output_type": "stream",
     "text": [
      "[[3212  636]\n",
      " [ 104   52]]\n"
     ]
    }
   ],
   "source": [
    "from sklearn import metrics\n",
    "\n",
    "\n",
    "predictions=clf.predict(X_test)\n",
    "\n",
    "print(metrics.confusion_matrix(y_test,predictions))"
   ]
  },
  {
   "cell_type": "code",
   "execution_count": 24,
   "metadata": {},
   "outputs": [
    {
     "name": "stderr",
     "output_type": "stream",
     "text": [
      "//miniconda3/envs/PTSD/lib/python3.7/site-packages/sklearn/metrics/ranking.py:659: UndefinedMetricWarning: No positive samples in y_true, true positive value should be meaningless\n",
      "  UndefinedMetricWarning)\n"
     ]
    }
   ],
   "source": [
    "from sklearn.metrics import auc\n",
    "\n",
    "fpr, tpr, thresholds = metrics.roc_curve(y_test, predictions, pos_label=2)"
   ]
  },
  {
   "cell_type": "code",
   "execution_count": 25,
   "metadata": {},
   "outputs": [],
   "source": [
    "y_preds = clf.predict_proba(X_test)\n",
    "\n",
    "# take the second column because the classifier outputs scores for\n",
    "# the 0 class as well\n",
    "preds = y_preds[:,1]\n",
    "import matplotlib.pyplot as plt"
   ]
  },
  {
   "cell_type": "code",
   "execution_count": 26,
   "metadata": {},
   "outputs": [
    {
     "data": {
      "image/png": "[encoded data removed]",
      "text/plain": [
       "<Figure size 432x288 with 1 Axes>"
      ]
     },
     "metadata": {
      "needs_background": "light"
     },
     "output_type": "display_data"
    }
   ],
   "source": [
    "# fpr means false-positive-rate\n",
    "# tpr means true-positive-rate\n",
    "fpr, tpr, _ = metrics.roc_curve(y_test, preds)\n",
    "\n",
    "auc_score = metrics.auc(fpr, tpr)\n",
    "\n",
    "# clear current figure\n",
    "plt.clf()\n",
    "\n",
    "plt.title('ROC Curve')\n",
    "plt.plot(fpr, tpr, label='AUC = {:.2f}'.format(auc_score))\n",
    "\n",
    "# it's helpful to add a diagonal to indicate where chance \n",
    "# scores lie (i.e. just flipping a coin)\n",
    "plt.plot([0,1],[0,1],'r--')\n",
    "\n",
    "plt.xlim([-0.1,1.1])\n",
    "plt.ylim([-0.1,1.1])\n",
    "plt.ylabel('True Positive Rate')\n",
    "plt.xlabel('False Positive Rate')\n",
    "\n",
    "plt.legend(loc='lower right')\n",
    "#It either does plot show ot plot save if you wanna save the plot make sure you don't execute plt show\n",
    "#plt.show()\n",
    "plt.savefig('Xgboost.png', dpi=300)"
   ]
  },
  {
   "cell_type": "code",
   "execution_count": 27,
   "metadata": {},
   "outputs": [
    {
     "data": {
      "text/plain": [
       "0.8151848151848152"
      ]
     },
     "execution_count": 27,
     "metadata": {},
     "output_type": "execute_result"
    }
   ],
   "source": [
    "Confusion = pd.DataFrame(metrics.confusion_matrix(y_test,predictions), \n",
    "                         index=['NO PTSD','PTSD'], \n",
    "                         columns=['NO PTSD','PTSD'])\n",
    "Confusion\n",
    "\n",
    "accuracy = accuracy_score(y_test, predictions)\n",
    "accuracy"
   ]
  },
  {
   "cell_type": "code",
   "execution_count": 28,
   "metadata": {},
   "outputs": [
    {
     "data": {
      "text/html": [
       "<div>\n",
       "<style scoped>\n",
       "    .dataframe tbody tr th:only-of-type {\n",
       "        vertical-align: middle;\n",
       "    }\n",
       "\n",
       "    .dataframe tbody tr th {\n",
       "        vertical-align: top;\n",
       "    }\n",
       "\n",
       "    .dataframe thead th {\n",
       "        text-align: right;\n",
       "    }\n",
       "</style>\n",
       "<table border=\"1\" class=\"dataframe\">\n",
       "  <thead>\n",
       "    <tr style=\"text-align: right;\">\n",
       "      <th></th>\n",
       "      <th>NO PTSD</th>\n",
       "      <th>PTSD</th>\n",
       "    </tr>\n",
       "  </thead>\n",
       "  <tbody>\n",
       "    <tr>\n",
       "      <td>NO PTSD</td>\n",
       "      <td>3212</td>\n",
       "      <td>636</td>\n",
       "    </tr>\n",
       "    <tr>\n",
       "      <td>PTSD</td>\n",
       "      <td>104</td>\n",
       "      <td>52</td>\n",
       "    </tr>\n",
       "  </tbody>\n",
       "</table>\n",
       "</div>"
      ],
      "text/plain": [
       "         NO PTSD  PTSD\n",
       "NO PTSD     3212   636\n",
       "PTSD         104    52"
      ]
     },
     "execution_count": 28,
     "metadata": {},
     "output_type": "execute_result"
    }
   ],
   "source": [
    "Confusion\n",
    "\n"
   ]
  },
  {
   "cell_type": "code",
   "execution_count": 29,
   "metadata": {},
   "outputs": [
    {
     "name": "stdout",
     "output_type": "stream",
     "text": [
      "              precision    recall  f1-score   support\n",
      "\n",
      "         0.0       0.97      0.83      0.90      3848\n",
      "         1.0       0.08      0.33      0.12       156\n",
      "\n",
      "    accuracy                           0.82      4004\n",
      "   macro avg       0.52      0.58      0.51      4004\n",
      "weighted avg       0.93      0.82      0.87      4004\n",
      "\n"
     ]
    }
   ],
   "source": [
    "print(metrics.classification_report(y_test,predictions))\n",
    "\n"
   ]
  },
  {
   "cell_type": "code",
   "execution_count": null,
   "metadata": {},
   "outputs": [],
   "source": [
    "# plot feature importance\n",
    "from xgboost import plot_importance\n",
    "plot_importance(clf)\n",
    "#plt.show()\n",
    "plt.savefig('FeatureImportanceXgboost.png', dpi=200)\n",
    "print(clf.feature_importances_)\n"
   ]
  },
  {
   "cell_type": "code",
   "execution_count": null,
   "metadata": {},
   "outputs": [],
   "source": [
    "from matplotlib import pyplot\n"
   ]
  },
  {
   "cell_type": "code",
   "execution_count": null,
   "metadata": {},
   "outputs": [],
   "source": [
    "# feature importance\n",
    "print(clf.feature_importances_)\n",
    "# plot\n",
    "pyplot.bar(range(len(clf.feature_importances_)), clf.feature_importances_)\n",
    "xlabel= ('mean_nni','sdnn','sdsd','nni_50','pnni_50',\n",
    "         'nni_20','pnni_20','rmssd', 'median_nni','range_nni',\n",
    "         'cvsd','cvnni','mean_hr','max_hr','min_hr',\n",
    "         'std_hr','hrrange', 'acc_x','acc_y','acc_z',\n",
    "         'acc_xmin','acc_ymin', 'acc_zmin','acc_xmax','acc_ymax',\n",
    "         'acc_zmax','acc_xsd','acc_ysd','acc_zsd','acc_xrange',\n",
    "         'acc_yrange','acc_zrange','linaccmean','linaccmin','linaccmax',\n",
    "         'linaccsd', 'linear_accel_x', 'linear_accel_y','linear_accel_z','linaccrange')\n",
    "#pyplot.xlabel(xlabel)\n",
    "pyplot.show()"
   ]
  },
  {
   "cell_type": "code",
   "execution_count": null,
   "metadata": {},
   "outputs": [],
   "source": [
    "import os"
   ]
  },
  {
   "cell_type": "code",
   "execution_count": null,
   "metadata": {},
   "outputs": [],
   "source": [
    "os.getcwd()"
   ]
  },
  {
   "cell_type": "code",
   "execution_count": null,
   "metadata": {},
   "outputs": [],
   "source": []
  },
  {
   "cell_type": "code",
   "execution_count": null,
   "metadata": {},
   "outputs": [],
   "source": []
  }
 ],
 "metadata": {
  "kernelspec": {
   "display_name": "Python 3",
   "language": "python",
   "name": "python3"
  },
  "language_info": {
   "codemirror_mode": {
    "name": "ipython",
    "version": 3
   },
   "file_extension": ".py",
   "mimetype": "text/x-python",
   "name": "python",
   "nbconvert_exporter": "python",
   "pygments_lexer": "ipython3",
   "version": "3.7.4"
  }
 },
 "nbformat": 4,
 "nbformat_minor": 2
}

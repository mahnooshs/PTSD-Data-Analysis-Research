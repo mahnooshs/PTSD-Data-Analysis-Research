{
 "cells": [
  {
   "cell_type": "code",
   "execution_count": 1,
   "metadata": {},
   "outputs": [
    {
     "name": "stderr",
     "output_type": "stream",
     "text": [
      "Using TensorFlow backend.\n",
      "//miniconda3/envs/PTSD/lib/python3.7/site-packages/tensorflow/python/framework/dtypes.py:516: FutureWarning: Passing (type, 1) or '1type' as a synonym of type is deprecated; in a future version of numpy, it will be understood as (type, (1,)) / '(1,)type'.\n",
      "  _np_qint8 = np.dtype([(\"qint8\", np.int8, 1)])\n",
      "//miniconda3/envs/PTSD/lib/python3.7/site-packages/tensorflow/python/framework/dtypes.py:517: FutureWarning: Passing (type, 1) or '1type' as a synonym of type is deprecated; in a future version of numpy, it will be understood as (type, (1,)) / '(1,)type'.\n",
      "  _np_quint8 = np.dtype([(\"quint8\", np.uint8, 1)])\n",
      "//miniconda3/envs/PTSD/lib/python3.7/site-packages/tensorflow/python/framework/dtypes.py:518: FutureWarning: Passing (type, 1) or '1type' as a synonym of type is deprecated; in a future version of numpy, it will be understood as (type, (1,)) / '(1,)type'.\n",
      "  _np_qint16 = np.dtype([(\"qint16\", np.int16, 1)])\n",
      "//miniconda3/envs/PTSD/lib/python3.7/site-packages/tensorflow/python/framework/dtypes.py:519: FutureWarning: Passing (type, 1) or '1type' as a synonym of type is deprecated; in a future version of numpy, it will be understood as (type, (1,)) / '(1,)type'.\n",
      "  _np_quint16 = np.dtype([(\"quint16\", np.uint16, 1)])\n",
      "//miniconda3/envs/PTSD/lib/python3.7/site-packages/tensorflow/python/framework/dtypes.py:520: FutureWarning: Passing (type, 1) or '1type' as a synonym of type is deprecated; in a future version of numpy, it will be understood as (type, (1,)) / '(1,)type'.\n",
      "  _np_qint32 = np.dtype([(\"qint32\", np.int32, 1)])\n",
      "//miniconda3/envs/PTSD/lib/python3.7/site-packages/tensorflow/python/framework/dtypes.py:525: FutureWarning: Passing (type, 1) or '1type' as a synonym of type is deprecated; in a future version of numpy, it will be understood as (type, (1,)) / '(1,)type'.\n",
      "  np_resource = np.dtype([(\"resource\", np.ubyte, 1)])\n",
      "//miniconda3/envs/PTSD/lib/python3.7/site-packages/tensorboard/compat/tensorflow_stub/dtypes.py:541: FutureWarning: Passing (type, 1) or '1type' as a synonym of type is deprecated; in a future version of numpy, it will be understood as (type, (1,)) / '(1,)type'.\n",
      "  _np_qint8 = np.dtype([(\"qint8\", np.int8, 1)])\n",
      "//miniconda3/envs/PTSD/lib/python3.7/site-packages/tensorboard/compat/tensorflow_stub/dtypes.py:542: FutureWarning: Passing (type, 1) or '1type' as a synonym of type is deprecated; in a future version of numpy, it will be understood as (type, (1,)) / '(1,)type'.\n",
      "  _np_quint8 = np.dtype([(\"quint8\", np.uint8, 1)])\n",
      "//miniconda3/envs/PTSD/lib/python3.7/site-packages/tensorboard/compat/tensorflow_stub/dtypes.py:543: FutureWarning: Passing (type, 1) or '1type' as a synonym of type is deprecated; in a future version of numpy, it will be understood as (type, (1,)) / '(1,)type'.\n",
      "  _np_qint16 = np.dtype([(\"qint16\", np.int16, 1)])\n",
      "//miniconda3/envs/PTSD/lib/python3.7/site-packages/tensorboard/compat/tensorflow_stub/dtypes.py:544: FutureWarning: Passing (type, 1) or '1type' as a synonym of type is deprecated; in a future version of numpy, it will be understood as (type, (1,)) / '(1,)type'.\n",
      "  _np_quint16 = np.dtype([(\"quint16\", np.uint16, 1)])\n",
      "//miniconda3/envs/PTSD/lib/python3.7/site-packages/tensorboard/compat/tensorflow_stub/dtypes.py:545: FutureWarning: Passing (type, 1) or '1type' as a synonym of type is deprecated; in a future version of numpy, it will be understood as (type, (1,)) / '(1,)type'.\n",
      "  _np_qint32 = np.dtype([(\"qint32\", np.int32, 1)])\n",
      "//miniconda3/envs/PTSD/lib/python3.7/site-packages/tensorboard/compat/tensorflow_stub/dtypes.py:550: FutureWarning: Passing (type, 1) or '1type' as a synonym of type is deprecated; in a future version of numpy, it will be understood as (type, (1,)) / '(1,)type'.\n",
      "  np_resource = np.dtype([(\"resource\", np.ubyte, 1)])\n"
     ]
    }
   ],
   "source": [
    "import numpy as np\n",
    "import pandas as pd\n",
    "%matplotlib inline\n",
    "import glob\n",
    "import keras\n",
    "from functools import reduce\n",
    "import xgboost\n",
    "from xgboost import XGBClassifier"
   ]
  },
  {
   "cell_type": "code",
   "execution_count": 2,
   "metadata": {},
   "outputs": [],
   "source": [
    "frame1=pd.read_csv('/Users/mahnooshsadeghi/Desktop/PTSD/PTSD Data/HR Features/HR Features_dataframe.csv')"
   ]
  },
  {
   "cell_type": "code",
   "execution_count": 3,
   "metadata": {},
   "outputs": [],
   "source": [
    "frame2=pd.read_csv('/Users/mahnooshsadeghi/Desktop/PTSD/PTSD Data/Linear Accerelation Features/Linear Accerelation Features_dataframe.csv')"
   ]
  },
  {
   "cell_type": "code",
   "execution_count": 4,
   "metadata": {},
   "outputs": [],
   "source": [
    "frame3=pd.read_csv('/Users/mahnooshsadeghi/Desktop/PTSD/PTSD Data/Angular Accerelation Features/Angular Accerelation Features_dataframe.csv')"
   ]
  },
  {
   "cell_type": "code",
   "execution_count": 5,
   "metadata": {},
   "outputs": [],
   "source": [
    "result = pd.merge(frame1,frame2,on=[\"windowno\",\"participant\", 'ptsd_moment'])\n",
    "frame= pd.merge(result,frame3,on=[\"windowno\",\"participant\", 'ptsd_moment'])"
   ]
  },
  {
   "cell_type": "code",
   "execution_count": 6,
   "metadata": {},
   "outputs": [
    {
     "data": {
      "text/html": [
       "<div>\n",
       "<style scoped>\n",
       "    .dataframe tbody tr th:only-of-type {\n",
       "        vertical-align: middle;\n",
       "    }\n",
       "\n",
       "    .dataframe tbody tr th {\n",
       "        vertical-align: top;\n",
       "    }\n",
       "\n",
       "    .dataframe thead th {\n",
       "        text-align: right;\n",
       "    }\n",
       "</style>\n",
       "<table border=\"1\" class=\"dataframe\">\n",
       "  <thead>\n",
       "    <tr style=\"text-align: right;\">\n",
       "      <th></th>\n",
       "      <th>windowno</th>\n",
       "      <th>hrmean</th>\n",
       "      <th>hrmin</th>\n",
       "      <th>hrmax</th>\n",
       "      <th>hrsd</th>\n",
       "      <th>ptsd_moment</th>\n",
       "      <th>participant</th>\n",
       "      <th>hrrange</th>\n",
       "      <th>linaccmean</th>\n",
       "      <th>linaccmin</th>\n",
       "      <th>...</th>\n",
       "      <th>acc_zmin</th>\n",
       "      <th>acc_xmax</th>\n",
       "      <th>acc_ymax</th>\n",
       "      <th>acc_zmax</th>\n",
       "      <th>acc_xsd</th>\n",
       "      <th>acc_ysd</th>\n",
       "      <th>acc_zsd</th>\n",
       "      <th>acc_xrange</th>\n",
       "      <th>acc_yrange</th>\n",
       "      <th>acc_zrange</th>\n",
       "    </tr>\n",
       "  </thead>\n",
       "  <tbody>\n",
       "    <tr>\n",
       "      <td>0</td>\n",
       "      <td>2914</td>\n",
       "      <td>66.708347</td>\n",
       "      <td>62.0</td>\n",
       "      <td>73.0</td>\n",
       "      <td>3.040741</td>\n",
       "      <td>1.0</td>\n",
       "      <td>13</td>\n",
       "      <td>11.0</td>\n",
       "      <td>0.348882</td>\n",
       "      <td>0.217425</td>\n",
       "      <td>...</td>\n",
       "      <td>6.919243</td>\n",
       "      <td>5.707777</td>\n",
       "      <td>5.640739</td>\n",
       "      <td>9.809045</td>\n",
       "      <td>1.861203</td>\n",
       "      <td>1.086771</td>\n",
       "      <td>0.560615</td>\n",
       "      <td>4.946421</td>\n",
       "      <td>5.111621</td>\n",
       "      <td>2.889802</td>\n",
       "    </tr>\n",
       "    <tr>\n",
       "      <td>1</td>\n",
       "      <td>2915</td>\n",
       "      <td>71.868832</td>\n",
       "      <td>64.0</td>\n",
       "      <td>80.0</td>\n",
       "      <td>4.653403</td>\n",
       "      <td>1.0</td>\n",
       "      <td>13</td>\n",
       "      <td>16.0</td>\n",
       "      <td>0.806669</td>\n",
       "      <td>0.123008</td>\n",
       "      <td>...</td>\n",
       "      <td>0.636858</td>\n",
       "      <td>7.386112</td>\n",
       "      <td>10.220847</td>\n",
       "      <td>9.885658</td>\n",
       "      <td>2.080554</td>\n",
       "      <td>3.371106</td>\n",
       "      <td>3.236376</td>\n",
       "      <td>7.046136</td>\n",
       "      <td>9.303867</td>\n",
       "      <td>9.248801</td>\n",
       "    </tr>\n",
       "    <tr>\n",
       "      <td>2</td>\n",
       "      <td>2917</td>\n",
       "      <td>85.688151</td>\n",
       "      <td>82.0</td>\n",
       "      <td>91.0</td>\n",
       "      <td>2.840909</td>\n",
       "      <td>1.0</td>\n",
       "      <td>13</td>\n",
       "      <td>9.0</td>\n",
       "      <td>2.514998</td>\n",
       "      <td>0.160625</td>\n",
       "      <td>...</td>\n",
       "      <td>0.495600</td>\n",
       "      <td>11.070788</td>\n",
       "      <td>10.273519</td>\n",
       "      <td>6.069301</td>\n",
       "      <td>3.759313</td>\n",
       "      <td>3.459381</td>\n",
       "      <td>1.228866</td>\n",
       "      <td>10.498574</td>\n",
       "      <td>9.588777</td>\n",
       "      <td>5.573701</td>\n",
       "    </tr>\n",
       "    <tr>\n",
       "      <td>3</td>\n",
       "      <td>2918</td>\n",
       "      <td>88.736465</td>\n",
       "      <td>85.0</td>\n",
       "      <td>92.0</td>\n",
       "      <td>2.299090</td>\n",
       "      <td>1.0</td>\n",
       "      <td>13</td>\n",
       "      <td>7.0</td>\n",
       "      <td>2.040820</td>\n",
       "      <td>0.148323</td>\n",
       "      <td>...</td>\n",
       "      <td>0.509965</td>\n",
       "      <td>10.192116</td>\n",
       "      <td>10.330980</td>\n",
       "      <td>9.856929</td>\n",
       "      <td>3.415119</td>\n",
       "      <td>3.281564</td>\n",
       "      <td>3.509966</td>\n",
       "      <td>9.940725</td>\n",
       "      <td>9.742007</td>\n",
       "      <td>9.346964</td>\n",
       "    </tr>\n",
       "    <tr>\n",
       "      <td>4</td>\n",
       "      <td>2922</td>\n",
       "      <td>84.311374</td>\n",
       "      <td>77.0</td>\n",
       "      <td>91.0</td>\n",
       "      <td>4.667418</td>\n",
       "      <td>0.0</td>\n",
       "      <td>13</td>\n",
       "      <td>14.0</td>\n",
       "      <td>2.523618</td>\n",
       "      <td>0.333024</td>\n",
       "      <td>...</td>\n",
       "      <td>0.519542</td>\n",
       "      <td>9.770737</td>\n",
       "      <td>10.041282</td>\n",
       "      <td>7.189788</td>\n",
       "      <td>3.292521</td>\n",
       "      <td>2.005847</td>\n",
       "      <td>2.147173</td>\n",
       "      <td>9.418790</td>\n",
       "      <td>7.886500</td>\n",
       "      <td>6.670246</td>\n",
       "    </tr>\n",
       "    <tr>\n",
       "      <td>...</td>\n",
       "      <td>...</td>\n",
       "      <td>...</td>\n",
       "      <td>...</td>\n",
       "      <td>...</td>\n",
       "      <td>...</td>\n",
       "      <td>...</td>\n",
       "      <td>...</td>\n",
       "      <td>...</td>\n",
       "      <td>...</td>\n",
       "      <td>...</td>\n",
       "      <td>...</td>\n",
       "      <td>...</td>\n",
       "      <td>...</td>\n",
       "      <td>...</td>\n",
       "      <td>...</td>\n",
       "      <td>...</td>\n",
       "      <td>...</td>\n",
       "      <td>...</td>\n",
       "      <td>...</td>\n",
       "      <td>...</td>\n",
       "      <td>...</td>\n",
       "    </tr>\n",
       "    <tr>\n",
       "      <td>13339</td>\n",
       "      <td>10624</td>\n",
       "      <td>62.202333</td>\n",
       "      <td>59.0</td>\n",
       "      <td>66.0</td>\n",
       "      <td>2.620253</td>\n",
       "      <td>0.0</td>\n",
       "      <td>3</td>\n",
       "      <td>7.0</td>\n",
       "      <td>0.239104</td>\n",
       "      <td>0.143193</td>\n",
       "      <td>...</td>\n",
       "      <td>2.925715</td>\n",
       "      <td>9.653421</td>\n",
       "      <td>0.675165</td>\n",
       "      <td>2.940080</td>\n",
       "      <td>0.002215</td>\n",
       "      <td>0.004644</td>\n",
       "      <td>0.002972</td>\n",
       "      <td>0.009576</td>\n",
       "      <td>0.019154</td>\n",
       "      <td>0.014365</td>\n",
       "    </tr>\n",
       "    <tr>\n",
       "      <td>13340</td>\n",
       "      <td>10625</td>\n",
       "      <td>63.031590</td>\n",
       "      <td>58.0</td>\n",
       "      <td>67.0</td>\n",
       "      <td>2.574690</td>\n",
       "      <td>0.0</td>\n",
       "      <td>3</td>\n",
       "      <td>9.0</td>\n",
       "      <td>0.209354</td>\n",
       "      <td>0.117786</td>\n",
       "      <td>...</td>\n",
       "      <td>2.925715</td>\n",
       "      <td>9.653421</td>\n",
       "      <td>0.679953</td>\n",
       "      <td>2.935291</td>\n",
       "      <td>0.002491</td>\n",
       "      <td>0.003073</td>\n",
       "      <td>0.002202</td>\n",
       "      <td>0.009576</td>\n",
       "      <td>0.009577</td>\n",
       "      <td>0.009577</td>\n",
       "    </tr>\n",
       "    <tr>\n",
       "      <td>13341</td>\n",
       "      <td>11159</td>\n",
       "      <td>110.224178</td>\n",
       "      <td>105.0</td>\n",
       "      <td>113.0</td>\n",
       "      <td>2.229094</td>\n",
       "      <td>0.0</td>\n",
       "      <td>3</td>\n",
       "      <td>8.0</td>\n",
       "      <td>2.274762</td>\n",
       "      <td>0.271582</td>\n",
       "      <td>...</td>\n",
       "      <td>0.375890</td>\n",
       "      <td>8.786720</td>\n",
       "      <td>10.477027</td>\n",
       "      <td>8.916007</td>\n",
       "      <td>3.077231</td>\n",
       "      <td>2.257510</td>\n",
       "      <td>2.534541</td>\n",
       "      <td>8.621520</td>\n",
       "      <td>8.599973</td>\n",
       "      <td>8.540117</td>\n",
       "    </tr>\n",
       "    <tr>\n",
       "      <td>13342</td>\n",
       "      <td>11413</td>\n",
       "      <td>95.140097</td>\n",
       "      <td>91.0</td>\n",
       "      <td>98.0</td>\n",
       "      <td>2.525024</td>\n",
       "      <td>0.0</td>\n",
       "      <td>3</td>\n",
       "      <td>7.0</td>\n",
       "      <td>1.843623</td>\n",
       "      <td>0.126336</td>\n",
       "      <td>...</td>\n",
       "      <td>0.732626</td>\n",
       "      <td>8.559271</td>\n",
       "      <td>8.956709</td>\n",
       "      <td>9.284714</td>\n",
       "      <td>2.655217</td>\n",
       "      <td>1.988869</td>\n",
       "      <td>2.832968</td>\n",
       "      <td>8.434773</td>\n",
       "      <td>6.797139</td>\n",
       "      <td>8.552088</td>\n",
       "    </tr>\n",
       "    <tr>\n",
       "      <td>13343</td>\n",
       "      <td>12609</td>\n",
       "      <td>102.244495</td>\n",
       "      <td>62.0</td>\n",
       "      <td>112.0</td>\n",
       "      <td>10.384461</td>\n",
       "      <td>0.0</td>\n",
       "      <td>3</td>\n",
       "      <td>50.0</td>\n",
       "      <td>49.272173</td>\n",
       "      <td>43.098665</td>\n",
       "      <td>...</td>\n",
       "      <td>1.096544</td>\n",
       "      <td>9.538500</td>\n",
       "      <td>3.806781</td>\n",
       "      <td>10.963050</td>\n",
       "      <td>2.033318</td>\n",
       "      <td>0.827729</td>\n",
       "      <td>1.872770</td>\n",
       "      <td>6.904878</td>\n",
       "      <td>3.588908</td>\n",
       "      <td>9.866505</td>\n",
       "    </tr>\n",
       "  </tbody>\n",
       "</table>\n",
       "<p>13344 rows × 31 columns</p>\n",
       "</div>"
      ],
      "text/plain": [
       "       windowno      hrmean  hrmin  hrmax       hrsd  ptsd_moment  \\\n",
       "0          2914   66.708347   62.0   73.0   3.040741          1.0   \n",
       "1          2915   71.868832   64.0   80.0   4.653403          1.0   \n",
       "2          2917   85.688151   82.0   91.0   2.840909          1.0   \n",
       "3          2918   88.736465   85.0   92.0   2.299090          1.0   \n",
       "4          2922   84.311374   77.0   91.0   4.667418          0.0   \n",
       "...         ...         ...    ...    ...        ...          ...   \n",
       "13339     10624   62.202333   59.0   66.0   2.620253          0.0   \n",
       "13340     10625   63.031590   58.0   67.0   2.574690          0.0   \n",
       "13341     11159  110.224178  105.0  113.0   2.229094          0.0   \n",
       "13342     11413   95.140097   91.0   98.0   2.525024          0.0   \n",
       "13343     12609  102.244495   62.0  112.0  10.384461          0.0   \n",
       "\n",
       "       participant  hrrange  linaccmean  linaccmin  ...  acc_zmin   acc_xmax  \\\n",
       "0               13     11.0    0.348882   0.217425  ...  6.919243   5.707777   \n",
       "1               13     16.0    0.806669   0.123008  ...  0.636858   7.386112   \n",
       "2               13      9.0    2.514998   0.160625  ...  0.495600  11.070788   \n",
       "3               13      7.0    2.040820   0.148323  ...  0.509965  10.192116   \n",
       "4               13     14.0    2.523618   0.333024  ...  0.519542   9.770737   \n",
       "...            ...      ...         ...        ...  ...       ...        ...   \n",
       "13339            3      7.0    0.239104   0.143193  ...  2.925715   9.653421   \n",
       "13340            3      9.0    0.209354   0.117786  ...  2.925715   9.653421   \n",
       "13341            3      8.0    2.274762   0.271582  ...  0.375890   8.786720   \n",
       "13342            3      7.0    1.843623   0.126336  ...  0.732626   8.559271   \n",
       "13343            3     50.0   49.272173  43.098665  ...  1.096544   9.538500   \n",
       "\n",
       "        acc_ymax   acc_zmax   acc_xsd   acc_ysd   acc_zsd  acc_xrange  \\\n",
       "0       5.640739   9.809045  1.861203  1.086771  0.560615    4.946421   \n",
       "1      10.220847   9.885658  2.080554  3.371106  3.236376    7.046136   \n",
       "2      10.273519   6.069301  3.759313  3.459381  1.228866   10.498574   \n",
       "3      10.330980   9.856929  3.415119  3.281564  3.509966    9.940725   \n",
       "4      10.041282   7.189788  3.292521  2.005847  2.147173    9.418790   \n",
       "...          ...        ...       ...       ...       ...         ...   \n",
       "13339   0.675165   2.940080  0.002215  0.004644  0.002972    0.009576   \n",
       "13340   0.679953   2.935291  0.002491  0.003073  0.002202    0.009576   \n",
       "13341  10.477027   8.916007  3.077231  2.257510  2.534541    8.621520   \n",
       "13342   8.956709   9.284714  2.655217  1.988869  2.832968    8.434773   \n",
       "13343   3.806781  10.963050  2.033318  0.827729  1.872770    6.904878   \n",
       "\n",
       "       acc_yrange  acc_zrange  \n",
       "0        5.111621    2.889802  \n",
       "1        9.303867    9.248801  \n",
       "2        9.588777    5.573701  \n",
       "3        9.742007    9.346964  \n",
       "4        7.886500    6.670246  \n",
       "...           ...         ...  \n",
       "13339    0.019154    0.014365  \n",
       "13340    0.009577    0.009577  \n",
       "13341    8.599973    8.540117  \n",
       "13342    6.797139    8.552088  \n",
       "13343    3.588908    9.866505  \n",
       "\n",
       "[13344 rows x 31 columns]"
      ]
     },
     "execution_count": 6,
     "metadata": {},
     "output_type": "execute_result"
    }
   ],
   "source": [
    "frame"
   ]
  },
  {
   "cell_type": "code",
   "execution_count": 7,
   "metadata": {},
   "outputs": [],
   "source": [
    "frame=frame.dropna()"
   ]
  },
  {
   "cell_type": "code",
   "execution_count": 8,
   "metadata": {},
   "outputs": [],
   "source": [
    "#if you want to save the file\n",
    "#frame.to_csv (r'/Users/mahnooshsadeghi/Desktop/PTSD/AllFeatures_dataframe.csv', index = None, header=True) #Don't forget to add '.csv' at the end of the path"
   ]
  },
  {
   "cell_type": "code",
   "execution_count": 9,
   "metadata": {},
   "outputs": [
    {
     "data": {
      "text/plain": [
       "windowno          0\n",
       "hrmean            0\n",
       "hrmin             0\n",
       "hrmax             0\n",
       "hrsd              0\n",
       "ptsd_moment       0\n",
       "participant       0\n",
       "hrrange           0\n",
       "linaccmean        0\n",
       "linaccmin         0\n",
       "linaccmax         0\n",
       "linaccsd          0\n",
       "linear_accel_x    0\n",
       "linear_accel_y    0\n",
       "linear_accel_z    0\n",
       "linaccrange       0\n",
       "acc_x             0\n",
       "acc_y             0\n",
       "acc_z             0\n",
       "acc_xmin          0\n",
       "acc_ymin          0\n",
       "acc_zmin          0\n",
       "acc_xmax          0\n",
       "acc_ymax          0\n",
       "acc_zmax          0\n",
       "acc_xsd           0\n",
       "acc_ysd           0\n",
       "acc_zsd           0\n",
       "acc_xrange        0\n",
       "acc_yrange        0\n",
       "acc_zrange        0\n",
       "dtype: int64"
      ]
     },
     "execution_count": 9,
     "metadata": {},
     "output_type": "execute_result"
    }
   ],
   "source": [
    "frame.isnull().sum()"
   ]
  },
  {
   "cell_type": "code",
   "execution_count": 10,
   "metadata": {},
   "outputs": [],
   "source": [
    "X= frame[['acc_x','acc_y','acc_z','acc_xmin','acc_ymin',\n",
    "          'acc_zmin','acc_xmax','acc_ymax','acc_zmax','acc_xsd',\n",
    "          'acc_ysd','acc_zsd','acc_xrange','acc_yrange','acc_zrange',\n",
    "          'linaccmean','linaccmin','linaccmax','linaccsd', 'linear_accel_x',\n",
    "          'linear_accel_y','linear_accel_z','linaccrange',\n",
    "          'hrmax', 'hrmean','hrmin','hrrange','hrsd']]\n",
    "#X= frameunder[['acc_x','acc_y','acc_z','linear_accel_x','linear_accel_y','linear_accel_z','linacc','hrmax', 'hrmean','hrmin','hrrange','hrsd']]\n",
    "y= frame[['ptsd_moment']]"
   ]
  },
  {
   "cell_type": "code",
   "execution_count": 11,
   "metadata": {},
   "outputs": [],
   "source": [
    "from sklearn.model_selection import train_test_split\n",
    "from sklearn.metrics import accuracy_score\n",
    "X_train, X_test, y_train, y_test = train_test_split(X,y, test_size=0.3, random_state=42)"
   ]
  },
  {
   "cell_type": "code",
   "execution_count": 12,
   "metadata": {},
   "outputs": [],
   "source": [
    "df1 = pd.DataFrame(X_train)"
   ]
  },
  {
   "cell_type": "code",
   "execution_count": 13,
   "metadata": {},
   "outputs": [],
   "source": [
    "df2 = pd.DataFrame(y_train)"
   ]
  },
  {
   "cell_type": "code",
   "execution_count": 14,
   "metadata": {},
   "outputs": [],
   "source": [
    "df = pd.concat([df1, df2], axis=1, sort=True)"
   ]
  },
  {
   "cell_type": "code",
   "execution_count": 15,
   "metadata": {},
   "outputs": [],
   "source": [
    "frame0 = df[df['ptsd_moment'] ==0]\n",
    "frame1 = df[df['ptsd_moment'] == 1]"
   ]
  },
  {
   "cell_type": "code",
   "execution_count": 16,
   "metadata": {},
   "outputs": [],
   "source": [
    "count_class_0, count_class_1 = df.ptsd_moment.value_counts()"
   ]
  },
  {
   "cell_type": "code",
   "execution_count": 17,
   "metadata": {},
   "outputs": [
    {
     "data": {
      "text/plain": [
       "8958"
      ]
     },
     "execution_count": 17,
     "metadata": {},
     "output_type": "execute_result"
    }
   ],
   "source": [
    "count_class_0"
   ]
  },
  {
   "cell_type": "code",
   "execution_count": 18,
   "metadata": {},
   "outputs": [],
   "source": [
    "ratio=0.75*count_class_0"
   ]
  },
  {
   "cell_type": "code",
   "execution_count": 19,
   "metadata": {},
   "outputs": [],
   "source": [
    "frame_class_1_over = frame1.sample(int(ratio), replace=True)"
   ]
  },
  {
   "cell_type": "code",
   "execution_count": 20,
   "metadata": {},
   "outputs": [],
   "source": [
    "frameover = pd.concat([frame0, frame_class_1_over], axis=0)"
   ]
  },
  {
   "cell_type": "code",
   "execution_count": 21,
   "metadata": {},
   "outputs": [],
   "source": [
    "X_trainups= frameover[['acc_x','acc_y','acc_z','acc_xmin','acc_ymin',\n",
    "          'acc_zmin','acc_xmax','acc_ymax','acc_zmax','acc_xsd',\n",
    "          'acc_ysd','acc_zsd','acc_xrange','acc_yrange','acc_zrange',\n",
    "          'linaccmean','linaccmin','linaccmax','linaccsd', 'linear_accel_x',\n",
    "          'linear_accel_y','linear_accel_z','linaccrange',\n",
    "          'hrmax', 'hrmean','hrmin','hrrange','hrsd']]\n",
    "#X= frameunder[['acc_x','acc_y','acc_z','linear_accel_x','linear_accel_y','linear_accel_z','linacc','hrmax', 'hrmean','hrmin','hrrange','hrsd']]\n",
    "y_trainups= frameover[['ptsd_moment']]"
   ]
  },
  {
   "cell_type": "code",
   "execution_count": 22,
   "metadata": {},
   "outputs": [],
   "source": [
    "#SOLVE XGBOOST NAME MISMATCH\n",
    "\n",
    "X_trainupsarray = X_trainups.to_numpy()\n",
    "y_trainupsarray= y_trainups.to_numpy()"
   ]
  },
  {
   "cell_type": "code",
   "execution_count": 23,
   "metadata": {},
   "outputs": [
    {
     "data": {
      "text/plain": [
       "dtype('float64')"
      ]
     },
     "execution_count": 23,
     "metadata": {},
     "output_type": "execute_result"
    }
   ],
   "source": [
    "y_trainupsarray.dtype"
   ]
  },
  {
   "cell_type": "code",
   "execution_count": 24,
   "metadata": {},
   "outputs": [],
   "source": [
    "#D_train = xgboost.DMatrix(X_train, label=y_train)\n",
    "#D_test = xgboost.DMatrix(X_test, label=y_test)"
   ]
  },
  {
   "cell_type": "code",
   "execution_count": 25,
   "metadata": {},
   "outputs": [],
   "source": [
    "#param = {\n",
    " #   'eta': 0.3, \n",
    "  #  'max_depth': 3,  \n",
    "   # 'objective': 'multi:softprob',  \n",
    "    #'num_class': 3} \n",
    "#steps = 20  # The number of training iterations\n"
   ]
  },
  {
   "cell_type": "code",
   "execution_count": 26,
   "metadata": {},
   "outputs": [],
   "source": [
    "#model = xgboost.train(param, D_train, steps)\n"
   ]
  },
  {
   "cell_type": "code",
   "execution_count": 27,
   "metadata": {},
   "outputs": [],
   "source": [
    "#import numpy as np\n",
    "#from sklearn.metrics import precision_score, recall_score, accuracy_score\n",
    "\n",
    "#preds = model.predict(D_test)\n",
    "#best_preds = np.asarray([np.argmax(line) for line in preds])\n",
    "\n",
    "#print(\"Precision = {}\".format(precision_score(y_test, best_preds, average='macro')))\n",
    "#print(\"Recall = {}\".format(recall_score(y_test, best_preds, average='macro')))\n",
    "#print(\"Accuracy = {}\".format(accuracy_score(y_test, best_preds)))"
   ]
  },
  {
   "cell_type": "code",
   "execution_count": 28,
   "metadata": {},
   "outputs": [],
   "source": [
    "#print(metrics.confusion_matrix(y_test,best_preds))"
   ]
  },
  {
   "cell_type": "code",
   "execution_count": 29,
   "metadata": {},
   "outputs": [],
   "source": [
    "#from sklearn.ensemble import RandomForestClassifier"
   ]
  },
  {
   "cell_type": "code",
   "execution_count": 30,
   "metadata": {},
   "outputs": [],
   "source": [
    "clf= XGBClassifier ()\n",
    "#clf= RandomForestClassifier(n_estimators=10, criterion='entropy', random_state=10)"
   ]
  },
  {
   "cell_type": "code",
   "execution_count": 31,
   "metadata": {},
   "outputs": [
    {
     "name": "stderr",
     "output_type": "stream",
     "text": [
      "//miniconda3/envs/PTSD/lib/python3.7/site-packages/sklearn/preprocessing/label.py:219: DataConversionWarning: A column-vector y was passed when a 1d array was expected. Please change the shape of y to (n_samples, ), for example using ravel().\n",
      "  y = column_or_1d(y, warn=True)\n",
      "//miniconda3/envs/PTSD/lib/python3.7/site-packages/sklearn/preprocessing/label.py:252: DataConversionWarning: A column-vector y was passed when a 1d array was expected. Please change the shape of y to (n_samples, ), for example using ravel().\n",
      "  y = column_or_1d(y, warn=True)\n"
     ]
    },
    {
     "data": {
      "text/plain": [
       "XGBClassifier(base_score=0.5, booster='gbtree', colsample_bylevel=1,\n",
       "              colsample_bynode=1, colsample_bytree=1, gamma=0,\n",
       "              learning_rate=0.1, max_delta_step=0, max_depth=3,\n",
       "              min_child_weight=1, missing=None, n_estimators=100, n_jobs=1,\n",
       "              nthread=None, objective='binary:logistic', random_state=0,\n",
       "              reg_alpha=0, reg_lambda=1, scale_pos_weight=1, seed=None,\n",
       "              silent=None, subsample=1, verbosity=1)"
      ]
     },
     "execution_count": 31,
     "metadata": {},
     "output_type": "execute_result"
    }
   ],
   "source": [
    "clf.fit(X_trainups,y_trainups)"
   ]
  },
  {
   "cell_type": "code",
   "execution_count": 32,
   "metadata": {},
   "outputs": [
    {
     "name": "stdout",
     "output_type": "stream",
     "text": [
      "[[3331  509]\n",
      " [  79   74]]\n"
     ]
    }
   ],
   "source": [
    "from sklearn import metrics\n",
    "\n",
    "\n",
    "predictions=clf.predict(X_test)\n",
    "\n",
    "print(metrics.confusion_matrix(y_test,predictions))"
   ]
  },
  {
   "cell_type": "code",
   "execution_count": 33,
   "metadata": {},
   "outputs": [
    {
     "name": "stderr",
     "output_type": "stream",
     "text": [
      "//miniconda3/envs/PTSD/lib/python3.7/site-packages/sklearn/metrics/ranking.py:659: UndefinedMetricWarning: No positive samples in y_true, true positive value should be meaningless\n",
      "  UndefinedMetricWarning)\n"
     ]
    }
   ],
   "source": [
    "from sklearn.metrics import auc\n",
    "\n",
    "fpr, tpr, thresholds = metrics.roc_curve(y_test, predictions, pos_label=2)"
   ]
  },
  {
   "cell_type": "code",
   "execution_count": 34,
   "metadata": {},
   "outputs": [],
   "source": [
    "y_preds = clf.predict_proba(X_test)\n",
    "\n",
    "# take the second column because the classifier outputs scores for\n",
    "# the 0 class as well\n",
    "preds = y_preds[:,1]\n",
    "import matplotlib.pyplot as plt"
   ]
  },
  {
   "cell_type": "code",
   "execution_count": 35,
   "metadata": {},
   "outputs": [
    {
     "data": {
      "image/png": "[encoded data removed]",
      "text/plain": [
       "<Figure size 432x288 with 1 Axes>"
      ]
     },
     "metadata": {
      "needs_background": "light"
     },
     "output_type": "display_data"
    }
   ],
   "source": [
    "# fpr means false-positive-rate\n",
    "# tpr means true-positive-rate\n",
    "fpr, tpr, _ = metrics.roc_curve(y_test, preds)\n",
    "\n",
    "auc_score = metrics.auc(fpr, tpr)\n",
    "\n",
    "# clear current figure\n",
    "plt.clf()\n",
    "\n",
    "plt.title('ROC Curve')\n",
    "plt.plot(fpr, tpr, label='AUC = {:.2f}'.format(auc_score))\n",
    "\n",
    "# it's helpful to add a diagonal to indicate where chance \n",
    "# scores lie (i.e. just flipping a coin)\n",
    "plt.plot([0,1],[0,1],'r--')\n",
    "\n",
    "plt.xlim([-0.1,1.1])\n",
    "plt.ylim([-0.1,1.1])\n",
    "plt.ylabel('True Positive Rate')\n",
    "plt.xlabel('False Positive Rate')\n",
    "\n",
    "plt.legend(loc='lower right')\n",
    "#It either does plot show ot plot save if you wanna save the plot make sure you don't execute plt show\n",
    "#plt.show()\n",
    "plt.savefig('Xgboost.png', dpi=300)"
   ]
  },
  {
   "cell_type": "code",
   "execution_count": 36,
   "metadata": {},
   "outputs": [
    {
     "data": {
      "image/png": "[encoded data removed]",
      "text/plain": [
       "<Figure size 432x288 with 1 Axes>"
      ]
     },
     "metadata": {
      "needs_background": "light"
     },
     "output_type": "display_data"
    }
   ],
   "source": [
    "# plot feature importance\n",
    "from xgboost import plot_importance\n",
    "plot_importance(clf)\n",
    "#plt.show()\n",
    "plt.savefig('FeatureImportanceXgboost.png', dpi=200)"
   ]
  },
  {
   "cell_type": "code",
   "execution_count": 37,
   "metadata": {},
   "outputs": [
    {
     "data": {
      "text/html": [
       "<div>\n",
       "<style scoped>\n",
       "    .dataframe tbody tr th:only-of-type {\n",
       "        vertical-align: middle;\n",
       "    }\n",
       "\n",
       "    .dataframe tbody tr th {\n",
       "        vertical-align: top;\n",
       "    }\n",
       "\n",
       "    .dataframe thead th {\n",
       "        text-align: right;\n",
       "    }\n",
       "</style>\n",
       "<table border=\"1\" class=\"dataframe\">\n",
       "  <thead>\n",
       "    <tr style=\"text-align: right;\">\n",
       "      <th></th>\n",
       "      <th>feature</th>\n",
       "      <th>importance</th>\n",
       "    </tr>\n",
       "  </thead>\n",
       "  <tbody>\n",
       "    <tr>\n",
       "      <td>8</td>\n",
       "      <td>acc_zmax</td>\n",
       "      <td>0.112385</td>\n",
       "    </tr>\n",
       "    <tr>\n",
       "      <td>20</td>\n",
       "      <td>linear_accel_y</td>\n",
       "      <td>0.062910</td>\n",
       "    </tr>\n",
       "    <tr>\n",
       "      <td>17</td>\n",
       "      <td>linaccmax</td>\n",
       "      <td>0.057162</td>\n",
       "    </tr>\n",
       "    <tr>\n",
       "      <td>11</td>\n",
       "      <td>acc_zsd</td>\n",
       "      <td>0.045226</td>\n",
       "    </tr>\n",
       "    <tr>\n",
       "      <td>12</td>\n",
       "      <td>acc_xrange</td>\n",
       "      <td>0.041093</td>\n",
       "    </tr>\n",
       "    <tr>\n",
       "      <td>24</td>\n",
       "      <td>hrmean</td>\n",
       "      <td>0.040107</td>\n",
       "    </tr>\n",
       "    <tr>\n",
       "      <td>4</td>\n",
       "      <td>acc_ymin</td>\n",
       "      <td>0.039682</td>\n",
       "    </tr>\n",
       "    <tr>\n",
       "      <td>13</td>\n",
       "      <td>acc_yrange</td>\n",
       "      <td>0.037537</td>\n",
       "    </tr>\n",
       "    <tr>\n",
       "      <td>14</td>\n",
       "      <td>acc_zrange</td>\n",
       "      <td>0.036467</td>\n",
       "    </tr>\n",
       "    <tr>\n",
       "      <td>25</td>\n",
       "      <td>hrmin</td>\n",
       "      <td>0.035796</td>\n",
       "    </tr>\n",
       "    <tr>\n",
       "      <td>21</td>\n",
       "      <td>linear_accel_z</td>\n",
       "      <td>0.035729</td>\n",
       "    </tr>\n",
       "    <tr>\n",
       "      <td>23</td>\n",
       "      <td>hrmax</td>\n",
       "      <td>0.032728</td>\n",
       "    </tr>\n",
       "    <tr>\n",
       "      <td>1</td>\n",
       "      <td>acc_y</td>\n",
       "      <td>0.031723</td>\n",
       "    </tr>\n",
       "    <tr>\n",
       "      <td>18</td>\n",
       "      <td>linaccsd</td>\n",
       "      <td>0.030996</td>\n",
       "    </tr>\n",
       "    <tr>\n",
       "      <td>2</td>\n",
       "      <td>acc_z</td>\n",
       "      <td>0.029932</td>\n",
       "    </tr>\n",
       "    <tr>\n",
       "      <td>7</td>\n",
       "      <td>acc_ymax</td>\n",
       "      <td>0.029284</td>\n",
       "    </tr>\n",
       "    <tr>\n",
       "      <td>6</td>\n",
       "      <td>acc_xmax</td>\n",
       "      <td>0.029231</td>\n",
       "    </tr>\n",
       "    <tr>\n",
       "      <td>3</td>\n",
       "      <td>acc_xmin</td>\n",
       "      <td>0.029195</td>\n",
       "    </tr>\n",
       "    <tr>\n",
       "      <td>22</td>\n",
       "      <td>linaccrange</td>\n",
       "      <td>0.029066</td>\n",
       "    </tr>\n",
       "    <tr>\n",
       "      <td>10</td>\n",
       "      <td>acc_ysd</td>\n",
       "      <td>0.027570</td>\n",
       "    </tr>\n",
       "    <tr>\n",
       "      <td>15</td>\n",
       "      <td>linaccmean</td>\n",
       "      <td>0.026113</td>\n",
       "    </tr>\n",
       "    <tr>\n",
       "      <td>9</td>\n",
       "      <td>acc_xsd</td>\n",
       "      <td>0.025944</td>\n",
       "    </tr>\n",
       "    <tr>\n",
       "      <td>27</td>\n",
       "      <td>hrsd</td>\n",
       "      <td>0.025783</td>\n",
       "    </tr>\n",
       "    <tr>\n",
       "      <td>16</td>\n",
       "      <td>linaccmin</td>\n",
       "      <td>0.024497</td>\n",
       "    </tr>\n",
       "    <tr>\n",
       "      <td>5</td>\n",
       "      <td>acc_zmin</td>\n",
       "      <td>0.023439</td>\n",
       "    </tr>\n",
       "    <tr>\n",
       "      <td>0</td>\n",
       "      <td>acc_x</td>\n",
       "      <td>0.022899</td>\n",
       "    </tr>\n",
       "    <tr>\n",
       "      <td>19</td>\n",
       "      <td>linear_accel_x</td>\n",
       "      <td>0.019518</td>\n",
       "    </tr>\n",
       "    <tr>\n",
       "      <td>26</td>\n",
       "      <td>hrrange</td>\n",
       "      <td>0.017987</td>\n",
       "    </tr>\n",
       "  </tbody>\n",
       "</table>\n",
       "</div>"
      ],
      "text/plain": [
       "           feature  importance\n",
       "8         acc_zmax    0.112385\n",
       "20  linear_accel_y    0.062910\n",
       "17       linaccmax    0.057162\n",
       "11         acc_zsd    0.045226\n",
       "12      acc_xrange    0.041093\n",
       "24          hrmean    0.040107\n",
       "4         acc_ymin    0.039682\n",
       "13      acc_yrange    0.037537\n",
       "14      acc_zrange    0.036467\n",
       "25           hrmin    0.035796\n",
       "21  linear_accel_z    0.035729\n",
       "23           hrmax    0.032728\n",
       "1            acc_y    0.031723\n",
       "18        linaccsd    0.030996\n",
       "2            acc_z    0.029932\n",
       "7         acc_ymax    0.029284\n",
       "6         acc_xmax    0.029231\n",
       "3         acc_xmin    0.029195\n",
       "22     linaccrange    0.029066\n",
       "10         acc_ysd    0.027570\n",
       "15      linaccmean    0.026113\n",
       "9          acc_xsd    0.025944\n",
       "27            hrsd    0.025783\n",
       "16       linaccmin    0.024497\n",
       "5         acc_zmin    0.023439\n",
       "0            acc_x    0.022899\n",
       "19  linear_accel_x    0.019518\n",
       "26         hrrange    0.017987"
      ]
     },
     "execution_count": 37,
     "metadata": {},
     "output_type": "execute_result"
    }
   ],
   "source": [
    "#Feature importance xgoost and xgboostregressor\n",
    "fi = pd.DataFrame({'feature': list(X_trainups.columns),\n",
    "                   'importance': clf.feature_importances_}).\\\n",
    "                    sort_values('importance', ascending = False)\n",
    "fi"
   ]
  },
  {
   "cell_type": "code",
   "execution_count": 38,
   "metadata": {},
   "outputs": [
    {
     "data": {
      "text/plain": [
       "0.8527422990232908"
      ]
     },
     "execution_count": 38,
     "metadata": {},
     "output_type": "execute_result"
    }
   ],
   "source": [
    "Confusion = pd.DataFrame(metrics.confusion_matrix(y_test,predictions), \n",
    "                         index=['NO PTSD','PTSD'], \n",
    "                         columns=['NO PTSD','PTSD'])\n",
    "Confusion\n",
    "\n",
    "accuracy = accuracy_score(y_test, predictions)\n",
    "accuracy"
   ]
  },
  {
   "cell_type": "code",
   "execution_count": 40,
   "metadata": {},
   "outputs": [
    {
     "data": {
      "text/html": [
       "<div>\n",
       "<style scoped>\n",
       "    .dataframe tbody tr th:only-of-type {\n",
       "        vertical-align: middle;\n",
       "    }\n",
       "\n",
       "    .dataframe tbody tr th {\n",
       "        vertical-align: top;\n",
       "    }\n",
       "\n",
       "    .dataframe thead th {\n",
       "        text-align: right;\n",
       "    }\n",
       "</style>\n",
       "<table border=\"1\" class=\"dataframe\">\n",
       "  <thead>\n",
       "    <tr style=\"text-align: right;\">\n",
       "      <th></th>\n",
       "      <th>NO PTSD</th>\n",
       "      <th>PTSD</th>\n",
       "    </tr>\n",
       "  </thead>\n",
       "  <tbody>\n",
       "    <tr>\n",
       "      <td>NO PTSD</td>\n",
       "      <td>3331</td>\n",
       "      <td>509</td>\n",
       "    </tr>\n",
       "    <tr>\n",
       "      <td>PTSD</td>\n",
       "      <td>79</td>\n",
       "      <td>74</td>\n",
       "    </tr>\n",
       "  </tbody>\n",
       "</table>\n",
       "</div>"
      ],
      "text/plain": [
       "         NO PTSD  PTSD\n",
       "NO PTSD     3331   509\n",
       "PTSD          79    74"
      ]
     },
     "execution_count": 40,
     "metadata": {},
     "output_type": "execute_result"
    }
   ],
   "source": [
    "Confusion"
   ]
  },
  {
   "cell_type": "code",
   "execution_count": 39,
   "metadata": {},
   "outputs": [
    {
     "name": "stdout",
     "output_type": "stream",
     "text": [
      "              precision    recall  f1-score   support\n",
      "\n",
      "         0.0       0.98      0.87      0.92      3840\n",
      "         1.0       0.13      0.48      0.20       153\n",
      "\n",
      "    accuracy                           0.85      3993\n",
      "   macro avg       0.55      0.68      0.56      3993\n",
      "weighted avg       0.94      0.85      0.89      3993\n",
      "\n"
     ]
    }
   ],
   "source": [
    "print(metrics.classification_report(y_test,predictions))\n"
   ]
  },
  {
   "cell_type": "code",
   "execution_count": 41,
   "metadata": {},
   "outputs": [],
   "source": [
    "from sklearn.datasets import make_hastie_10_2\n",
    "from sklearn.ensemble import GradientBoostingClassifier\n",
    "from sklearn.inspection import plot_partial_dependence\n",
    "from sklearn.pipeline import make_pipeline\n",
    "from sklearn.preprocessing import QuantileTransformer\n",
    "from sklearn.inspection import partial_dependence\n",
    "from sklearn.neural_network import MLPRegressor\n"
   ]
  },
  {
   "cell_type": "code",
   "execution_count": 42,
   "metadata": {},
   "outputs": [],
   "source": [
    "from sklearn.ensemble import GradientBoostingRegressor\n",
    "#model = xgboost.XGBRegressor()\n",
    "model= GradientBoostingRegressor()"
   ]
  },
  {
   "cell_type": "code",
   "execution_count": 43,
   "metadata": {},
   "outputs": [
    {
     "name": "stderr",
     "output_type": "stream",
     "text": [
      "//miniconda3/envs/PTSD/lib/python3.7/site-packages/sklearn/ensemble/gradient_boosting.py:1450: DataConversionWarning: A column-vector y was passed when a 1d array was expected. Please change the shape of y to (n_samples, ), for example using ravel().\n",
      "  y = column_or_1d(y, warn=True)\n"
     ]
    },
    {
     "data": {
      "text/plain": [
       "GradientBoostingRegressor(alpha=0.9, criterion='friedman_mse', init=None,\n",
       "                          learning_rate=0.1, loss='ls', max_depth=3,\n",
       "                          max_features=None, max_leaf_nodes=None,\n",
       "                          min_impurity_decrease=0.0, min_impurity_split=None,\n",
       "                          min_samples_leaf=1, min_samples_split=2,\n",
       "                          min_weight_fraction_leaf=0.0, n_estimators=100,\n",
       "                          n_iter_no_change=None, presort='auto',\n",
       "                          random_state=None, subsample=1.0, tol=0.0001,\n",
       "                          validation_fraction=0.1, verbose=0, warm_start=False)"
      ]
     },
     "execution_count": 43,
     "metadata": {},
     "output_type": "execute_result"
    }
   ],
   "source": [
    "model.fit(X_trainups, y_trainups)"
   ]
  },
  {
   "cell_type": "code",
   "execution_count": 44,
   "metadata": {},
   "outputs": [
    {
     "data": {
      "text/plain": [
       "GradientBoostingRegressor(alpha=0.9, criterion='friedman_mse', init=None,\n",
       "                          learning_rate=0.1, loss='ls', max_depth=3,\n",
       "                          max_features=None, max_leaf_nodes=None,\n",
       "                          min_impurity_decrease=0.0, min_impurity_split=None,\n",
       "                          min_samples_leaf=1, min_samples_split=2,\n",
       "                          min_weight_fraction_leaf=0.0, n_estimators=100,\n",
       "                          n_iter_no_change=None, presort='auto',\n",
       "                          random_state=None, subsample=1.0, tol=0.0001,\n",
       "                          validation_fraction=0.1, verbose=0, warm_start=False)"
      ]
     },
     "execution_count": 44,
     "metadata": {},
     "output_type": "execute_result"
    }
   ],
   "source": [
    "model"
   ]
  },
  {
   "cell_type": "code",
   "execution_count": null,
   "metadata": {},
   "outputs": [],
   "source": []
  },
  {
   "cell_type": "code",
   "execution_count": null,
   "metadata": {},
   "outputs": [],
   "source": [
    "#####Random Forest"
   ]
  },
  {
   "cell_type": "code",
   "execution_count": 45,
   "metadata": {},
   "outputs": [],
   "source": [
    "from sklearn.ensemble import RandomForestClassifier"
   ]
  },
  {
   "cell_type": "code",
   "execution_count": 46,
   "metadata": {},
   "outputs": [],
   "source": [
    "clfrf= RandomForestClassifier(n_estimators=10, criterion='entropy', random_state=10)"
   ]
  },
  {
   "cell_type": "code",
   "execution_count": 47,
   "metadata": {},
   "outputs": [
    {
     "name": "stderr",
     "output_type": "stream",
     "text": [
      "//miniconda3/envs/PTSD/lib/python3.7/site-packages/ipykernel_launcher.py:1: DataConversionWarning: A column-vector y was passed when a 1d array was expected. Please change the shape of y to (n_samples,), for example using ravel().\n",
      "  \"\"\"Entry point for launching an IPython kernel.\n"
     ]
    },
    {
     "data": {
      "text/plain": [
       "RandomForestClassifier(bootstrap=True, class_weight=None, criterion='entropy',\n",
       "                       max_depth=None, max_features='auto', max_leaf_nodes=None,\n",
       "                       min_impurity_decrease=0.0, min_impurity_split=None,\n",
       "                       min_samples_leaf=1, min_samples_split=2,\n",
       "                       min_weight_fraction_leaf=0.0, n_estimators=10,\n",
       "                       n_jobs=None, oob_score=False, random_state=10, verbose=0,\n",
       "                       warm_start=False)"
      ]
     },
     "execution_count": 47,
     "metadata": {},
     "output_type": "execute_result"
    }
   ],
   "source": [
    "clfrf.fit(X_trainups,y_trainups)"
   ]
  },
  {
   "cell_type": "code",
   "execution_count": 48,
   "metadata": {},
   "outputs": [
    {
     "name": "stdout",
     "output_type": "stream",
     "text": [
      "[[3829   11]\n",
      " [ 148    5]]\n"
     ]
    }
   ],
   "source": [
    "from sklearn import metrics\n",
    "\n",
    "\n",
    "predictionsrf=clfrf.predict(X_test)\n",
    "\n",
    "print(metrics.confusion_matrix(y_test,predictionsrf))"
   ]
  },
  {
   "cell_type": "code",
   "execution_count": 49,
   "metadata": {},
   "outputs": [
    {
     "name": "stderr",
     "output_type": "stream",
     "text": [
      "//miniconda3/envs/PTSD/lib/python3.7/site-packages/sklearn/metrics/ranking.py:659: UndefinedMetricWarning: No positive samples in y_true, true positive value should be meaningless\n",
      "  UndefinedMetricWarning)\n"
     ]
    }
   ],
   "source": [
    "from sklearn.metrics import auc\n",
    "\n",
    "fpr, tpr, thresholds = metrics.roc_curve(y_test, predictionsrf, pos_label=2)"
   ]
  },
  {
   "cell_type": "code",
   "execution_count": 50,
   "metadata": {},
   "outputs": [],
   "source": [
    "y_predsrf = clfrf.predict_proba(X_test)\n",
    "\n",
    "# take the second column because the classifier outputs scores for\n",
    "# the 0 class as well\n",
    "predsrf = y_predsrf[:,1]\n",
    "import matplotlib.pyplot as plt"
   ]
  },
  {
   "cell_type": "code",
   "execution_count": 51,
   "metadata": {},
   "outputs": [
    {
     "data": {
      "image/png": "[encoded data removed]",
      "text/plain": [
       "<Figure size 432x288 with 1 Axes>"
      ]
     },
     "metadata": {
      "needs_background": "light"
     },
     "output_type": "display_data"
    }
   ],
   "source": [
    "# fpr means false-positive-rate\n",
    "# tpr means true-positive-rate\n",
    "fpr, tpr, _ = metrics.roc_curve(y_test, predsrf)\n",
    "\n",
    "auc_score = metrics.auc(fpr, tpr)\n",
    "\n",
    "# clear current figure\n",
    "plt.clf()\n",
    "\n",
    "plt.title('ROC Curve')\n",
    "plt.plot(fpr, tpr, label='AUC = {:.2f}'.format(auc_score))\n",
    "\n",
    "# it's helpful to add a diagonal to indicate where chance \n",
    "# scores lie (i.e. just flipping a coin)\n",
    "plt.plot([0,1],[0,1],'r--')\n",
    "\n",
    "plt.xlim([-0.1,1.1])\n",
    "plt.ylim([-0.1,1.1])\n",
    "plt.ylabel('True Positive Rate')\n",
    "plt.xlabel('False Positive Rate')\n",
    "\n",
    "plt.legend(loc='lower right')\n",
    "#It either does plot show ot plot save if you wanna save the plot make sure you don't execute plt show\n",
    "#plt.show()\n",
    "plt.savefig('Random Forest.png', dpi=300)"
   ]
  },
  {
   "cell_type": "code",
   "execution_count": 52,
   "metadata": {},
   "outputs": [
    {
     "data": {
      "text/html": [
       "<div>\n",
       "<style scoped>\n",
       "    .dataframe tbody tr th:only-of-type {\n",
       "        vertical-align: middle;\n",
       "    }\n",
       "\n",
       "    .dataframe tbody tr th {\n",
       "        vertical-align: top;\n",
       "    }\n",
       "\n",
       "    .dataframe thead th {\n",
       "        text-align: right;\n",
       "    }\n",
       "</style>\n",
       "<table border=\"1\" class=\"dataframe\">\n",
       "  <thead>\n",
       "    <tr style=\"text-align: right;\">\n",
       "      <th></th>\n",
       "      <th>feature</th>\n",
       "      <th>importance</th>\n",
       "    </tr>\n",
       "  </thead>\n",
       "  <tbody>\n",
       "    <tr>\n",
       "      <td>8</td>\n",
       "      <td>acc_zmax</td>\n",
       "      <td>0.112385</td>\n",
       "    </tr>\n",
       "    <tr>\n",
       "      <td>20</td>\n",
       "      <td>linear_accel_y</td>\n",
       "      <td>0.062910</td>\n",
       "    </tr>\n",
       "    <tr>\n",
       "      <td>17</td>\n",
       "      <td>linaccmax</td>\n",
       "      <td>0.057162</td>\n",
       "    </tr>\n",
       "    <tr>\n",
       "      <td>11</td>\n",
       "      <td>acc_zsd</td>\n",
       "      <td>0.045226</td>\n",
       "    </tr>\n",
       "    <tr>\n",
       "      <td>12</td>\n",
       "      <td>acc_xrange</td>\n",
       "      <td>0.041093</td>\n",
       "    </tr>\n",
       "    <tr>\n",
       "      <td>24</td>\n",
       "      <td>hrmean</td>\n",
       "      <td>0.040107</td>\n",
       "    </tr>\n",
       "    <tr>\n",
       "      <td>4</td>\n",
       "      <td>acc_ymin</td>\n",
       "      <td>0.039682</td>\n",
       "    </tr>\n",
       "    <tr>\n",
       "      <td>13</td>\n",
       "      <td>acc_yrange</td>\n",
       "      <td>0.037537</td>\n",
       "    </tr>\n",
       "    <tr>\n",
       "      <td>14</td>\n",
       "      <td>acc_zrange</td>\n",
       "      <td>0.036467</td>\n",
       "    </tr>\n",
       "    <tr>\n",
       "      <td>25</td>\n",
       "      <td>hrmin</td>\n",
       "      <td>0.035796</td>\n",
       "    </tr>\n",
       "    <tr>\n",
       "      <td>21</td>\n",
       "      <td>linear_accel_z</td>\n",
       "      <td>0.035729</td>\n",
       "    </tr>\n",
       "    <tr>\n",
       "      <td>23</td>\n",
       "      <td>hrmax</td>\n",
       "      <td>0.032728</td>\n",
       "    </tr>\n",
       "    <tr>\n",
       "      <td>1</td>\n",
       "      <td>acc_y</td>\n",
       "      <td>0.031723</td>\n",
       "    </tr>\n",
       "    <tr>\n",
       "      <td>18</td>\n",
       "      <td>linaccsd</td>\n",
       "      <td>0.030996</td>\n",
       "    </tr>\n",
       "    <tr>\n",
       "      <td>2</td>\n",
       "      <td>acc_z</td>\n",
       "      <td>0.029932</td>\n",
       "    </tr>\n",
       "    <tr>\n",
       "      <td>7</td>\n",
       "      <td>acc_ymax</td>\n",
       "      <td>0.029284</td>\n",
       "    </tr>\n",
       "    <tr>\n",
       "      <td>6</td>\n",
       "      <td>acc_xmax</td>\n",
       "      <td>0.029231</td>\n",
       "    </tr>\n",
       "    <tr>\n",
       "      <td>3</td>\n",
       "      <td>acc_xmin</td>\n",
       "      <td>0.029195</td>\n",
       "    </tr>\n",
       "    <tr>\n",
       "      <td>22</td>\n",
       "      <td>linaccrange</td>\n",
       "      <td>0.029066</td>\n",
       "    </tr>\n",
       "    <tr>\n",
       "      <td>10</td>\n",
       "      <td>acc_ysd</td>\n",
       "      <td>0.027570</td>\n",
       "    </tr>\n",
       "    <tr>\n",
       "      <td>15</td>\n",
       "      <td>linaccmean</td>\n",
       "      <td>0.026113</td>\n",
       "    </tr>\n",
       "    <tr>\n",
       "      <td>9</td>\n",
       "      <td>acc_xsd</td>\n",
       "      <td>0.025944</td>\n",
       "    </tr>\n",
       "    <tr>\n",
       "      <td>27</td>\n",
       "      <td>hrsd</td>\n",
       "      <td>0.025783</td>\n",
       "    </tr>\n",
       "    <tr>\n",
       "      <td>16</td>\n",
       "      <td>linaccmin</td>\n",
       "      <td>0.024497</td>\n",
       "    </tr>\n",
       "    <tr>\n",
       "      <td>5</td>\n",
       "      <td>acc_zmin</td>\n",
       "      <td>0.023439</td>\n",
       "    </tr>\n",
       "    <tr>\n",
       "      <td>0</td>\n",
       "      <td>acc_x</td>\n",
       "      <td>0.022899</td>\n",
       "    </tr>\n",
       "    <tr>\n",
       "      <td>19</td>\n",
       "      <td>linear_accel_x</td>\n",
       "      <td>0.019518</td>\n",
       "    </tr>\n",
       "    <tr>\n",
       "      <td>26</td>\n",
       "      <td>hrrange</td>\n",
       "      <td>0.017987</td>\n",
       "    </tr>\n",
       "  </tbody>\n",
       "</table>\n",
       "</div>"
      ],
      "text/plain": [
       "           feature  importance\n",
       "8         acc_zmax    0.112385\n",
       "20  linear_accel_y    0.062910\n",
       "17       linaccmax    0.057162\n",
       "11         acc_zsd    0.045226\n",
       "12      acc_xrange    0.041093\n",
       "24          hrmean    0.040107\n",
       "4         acc_ymin    0.039682\n",
       "13      acc_yrange    0.037537\n",
       "14      acc_zrange    0.036467\n",
       "25           hrmin    0.035796\n",
       "21  linear_accel_z    0.035729\n",
       "23           hrmax    0.032728\n",
       "1            acc_y    0.031723\n",
       "18        linaccsd    0.030996\n",
       "2            acc_z    0.029932\n",
       "7         acc_ymax    0.029284\n",
       "6         acc_xmax    0.029231\n",
       "3         acc_xmin    0.029195\n",
       "22     linaccrange    0.029066\n",
       "10         acc_ysd    0.027570\n",
       "15      linaccmean    0.026113\n",
       "9          acc_xsd    0.025944\n",
       "27            hrsd    0.025783\n",
       "16       linaccmin    0.024497\n",
       "5         acc_zmin    0.023439\n",
       "0            acc_x    0.022899\n",
       "19  linear_accel_x    0.019518\n",
       "26         hrrange    0.017987"
      ]
     },
     "execution_count": 52,
     "metadata": {},
     "output_type": "execute_result"
    }
   ],
   "source": [
    "#Feature importance xgoost and xgboostregressor\n",
    "fi = pd.DataFrame({'feature': list(X_trainups.columns),\n",
    "                   'importance': clf.feature_importances_}).\\\n",
    "                    sort_values('importance', ascending = False)\n",
    "\n",
    "fi1 = pd.DataFrame({'feature': list(X_trainups.columns),\n",
    "                   'importance': model.feature_importances_}).\\\n",
    "                    sort_values('importance', ascending = False)\n",
    "\n",
    "# Display\n",
    "\n",
    "\n",
    "fi\n"
   ]
  },
  {
   "cell_type": "code",
   "execution_count": 53,
   "metadata": {},
   "outputs": [
    {
     "data": {
      "text/html": [
       "<div>\n",
       "<style scoped>\n",
       "    .dataframe tbody tr th:only-of-type {\n",
       "        vertical-align: middle;\n",
       "    }\n",
       "\n",
       "    .dataframe tbody tr th {\n",
       "        vertical-align: top;\n",
       "    }\n",
       "\n",
       "    .dataframe thead th {\n",
       "        text-align: right;\n",
       "    }\n",
       "</style>\n",
       "<table border=\"1\" class=\"dataframe\">\n",
       "  <thead>\n",
       "    <tr style=\"text-align: right;\">\n",
       "      <th></th>\n",
       "      <th>feature</th>\n",
       "      <th>importance</th>\n",
       "    </tr>\n",
       "  </thead>\n",
       "  <tbody>\n",
       "    <tr>\n",
       "      <td>8</td>\n",
       "      <td>acc_zmax</td>\n",
       "      <td>0.246662</td>\n",
       "    </tr>\n",
       "    <tr>\n",
       "      <td>25</td>\n",
       "      <td>hrmin</td>\n",
       "      <td>0.067428</td>\n",
       "    </tr>\n",
       "    <tr>\n",
       "      <td>20</td>\n",
       "      <td>linear_accel_y</td>\n",
       "      <td>0.053086</td>\n",
       "    </tr>\n",
       "    <tr>\n",
       "      <td>11</td>\n",
       "      <td>acc_zsd</td>\n",
       "      <td>0.048802</td>\n",
       "    </tr>\n",
       "    <tr>\n",
       "      <td>3</td>\n",
       "      <td>acc_xmin</td>\n",
       "      <td>0.045809</td>\n",
       "    </tr>\n",
       "    <tr>\n",
       "      <td>4</td>\n",
       "      <td>acc_ymin</td>\n",
       "      <td>0.043759</td>\n",
       "    </tr>\n",
       "    <tr>\n",
       "      <td>16</td>\n",
       "      <td>linaccmin</td>\n",
       "      <td>0.038394</td>\n",
       "    </tr>\n",
       "    <tr>\n",
       "      <td>1</td>\n",
       "      <td>acc_y</td>\n",
       "      <td>0.037462</td>\n",
       "    </tr>\n",
       "    <tr>\n",
       "      <td>23</td>\n",
       "      <td>hrmax</td>\n",
       "      <td>0.035529</td>\n",
       "    </tr>\n",
       "    <tr>\n",
       "      <td>21</td>\n",
       "      <td>linear_accel_z</td>\n",
       "      <td>0.033750</td>\n",
       "    </tr>\n",
       "    <tr>\n",
       "      <td>24</td>\n",
       "      <td>hrmean</td>\n",
       "      <td>0.032172</td>\n",
       "    </tr>\n",
       "    <tr>\n",
       "      <td>2</td>\n",
       "      <td>acc_z</td>\n",
       "      <td>0.031421</td>\n",
       "    </tr>\n",
       "    <tr>\n",
       "      <td>17</td>\n",
       "      <td>linaccmax</td>\n",
       "      <td>0.030495</td>\n",
       "    </tr>\n",
       "    <tr>\n",
       "      <td>18</td>\n",
       "      <td>linaccsd</td>\n",
       "      <td>0.030012</td>\n",
       "    </tr>\n",
       "    <tr>\n",
       "      <td>15</td>\n",
       "      <td>linaccmean</td>\n",
       "      <td>0.023485</td>\n",
       "    </tr>\n",
       "    <tr>\n",
       "      <td>27</td>\n",
       "      <td>hrsd</td>\n",
       "      <td>0.022147</td>\n",
       "    </tr>\n",
       "    <tr>\n",
       "      <td>7</td>\n",
       "      <td>acc_ymax</td>\n",
       "      <td>0.021675</td>\n",
       "    </tr>\n",
       "    <tr>\n",
       "      <td>6</td>\n",
       "      <td>acc_xmax</td>\n",
       "      <td>0.018477</td>\n",
       "    </tr>\n",
       "    <tr>\n",
       "      <td>10</td>\n",
       "      <td>acc_ysd</td>\n",
       "      <td>0.018440</td>\n",
       "    </tr>\n",
       "    <tr>\n",
       "      <td>13</td>\n",
       "      <td>acc_yrange</td>\n",
       "      <td>0.018231</td>\n",
       "    </tr>\n",
       "    <tr>\n",
       "      <td>5</td>\n",
       "      <td>acc_zmin</td>\n",
       "      <td>0.016945</td>\n",
       "    </tr>\n",
       "    <tr>\n",
       "      <td>19</td>\n",
       "      <td>linear_accel_x</td>\n",
       "      <td>0.015271</td>\n",
       "    </tr>\n",
       "    <tr>\n",
       "      <td>14</td>\n",
       "      <td>acc_zrange</td>\n",
       "      <td>0.014357</td>\n",
       "    </tr>\n",
       "    <tr>\n",
       "      <td>26</td>\n",
       "      <td>hrrange</td>\n",
       "      <td>0.012052</td>\n",
       "    </tr>\n",
       "    <tr>\n",
       "      <td>12</td>\n",
       "      <td>acc_xrange</td>\n",
       "      <td>0.011936</td>\n",
       "    </tr>\n",
       "    <tr>\n",
       "      <td>9</td>\n",
       "      <td>acc_xsd</td>\n",
       "      <td>0.011765</td>\n",
       "    </tr>\n",
       "    <tr>\n",
       "      <td>22</td>\n",
       "      <td>linaccrange</td>\n",
       "      <td>0.011544</td>\n",
       "    </tr>\n",
       "    <tr>\n",
       "      <td>0</td>\n",
       "      <td>acc_x</td>\n",
       "      <td>0.008894</td>\n",
       "    </tr>\n",
       "  </tbody>\n",
       "</table>\n",
       "</div>"
      ],
      "text/plain": [
       "           feature  importance\n",
       "8         acc_zmax    0.246662\n",
       "25           hrmin    0.067428\n",
       "20  linear_accel_y    0.053086\n",
       "11         acc_zsd    0.048802\n",
       "3         acc_xmin    0.045809\n",
       "4         acc_ymin    0.043759\n",
       "16       linaccmin    0.038394\n",
       "1            acc_y    0.037462\n",
       "23           hrmax    0.035529\n",
       "21  linear_accel_z    0.033750\n",
       "24          hrmean    0.032172\n",
       "2            acc_z    0.031421\n",
       "17       linaccmax    0.030495\n",
       "18        linaccsd    0.030012\n",
       "15      linaccmean    0.023485\n",
       "27            hrsd    0.022147\n",
       "7         acc_ymax    0.021675\n",
       "6         acc_xmax    0.018477\n",
       "10         acc_ysd    0.018440\n",
       "13      acc_yrange    0.018231\n",
       "5         acc_zmin    0.016945\n",
       "19  linear_accel_x    0.015271\n",
       "14      acc_zrange    0.014357\n",
       "26         hrrange    0.012052\n",
       "12      acc_xrange    0.011936\n",
       "9          acc_xsd    0.011765\n",
       "22     linaccrange    0.011544\n",
       "0            acc_x    0.008894"
      ]
     },
     "execution_count": 53,
     "metadata": {},
     "output_type": "execute_result"
    }
   ],
   "source": [
    "fi1"
   ]
  },
  {
   "cell_type": "code",
   "execution_count": 54,
   "metadata": {},
   "outputs": [],
   "source": [
    "##Partial dependency plots\n",
    "\n",
    "from sklearn.ensemble.partial_dependence import partial_dependence, plot_partial_dependence"
   ]
  },
  {
   "cell_type": "code",
   "execution_count": 55,
   "metadata": {},
   "outputs": [
    {
     "name": "stderr",
     "output_type": "stream",
     "text": [
      "//miniconda3/envs/PTSD/lib/python3.7/site-packages/sklearn/utils/deprecation.py:85: DeprecationWarning: Function plot_partial_dependence is deprecated; The function ensemble.plot_partial_dependence has been deprecated in favour of sklearn.inspection.plot_partial_dependence in  0.21 and will be removed in 0.23.\n",
      "  warnings.warn(msg, category=DeprecationWarning)\n",
      "//miniconda3/envs/PTSD/lib/python3.7/site-packages/sklearn/utils/deprecation.py:85: DeprecationWarning: Function partial_dependence is deprecated; The function ensemble.partial_dependence has been deprecated in favour of inspection.partial_dependence in 0.21 and will be removed in 0.23.\n",
      "  warnings.warn(msg, category=DeprecationWarning)\n",
      "//miniconda3/envs/PTSD/lib/python3.7/site-packages/sklearn/utils/deprecation.py:85: DeprecationWarning: Function partial_dependence is deprecated; The function ensemble.partial_dependence has been deprecated in favour of inspection.partial_dependence in 0.21 and will be removed in 0.23.\n",
      "  warnings.warn(msg, category=DeprecationWarning)\n",
      "//miniconda3/envs/PTSD/lib/python3.7/site-packages/sklearn/utils/deprecation.py:85: DeprecationWarning: Function partial_dependence is deprecated; The function ensemble.partial_dependence has been deprecated in favour of inspection.partial_dependence in 0.21 and will be removed in 0.23.\n",
      "  warnings.warn(msg, category=DeprecationWarning)\n"
     ]
    },
    {
     "data": {
      "image/png": "[encoded data removed]",
      "text/plain": [
       "<Figure size 432x288 with 3 Axes>"
      ]
     },
     "metadata": {
      "needs_background": "light"
     },
     "output_type": "display_data"
    }
   ],
   "source": [
    "my_plots = plot_partial_dependence(model,       \n",
    "                                   features=['hrrange', 'hrmax', 'hrmin'], # column numbers of plots we want to show\n",
    "                                   X=X_trainups,            # raw predictors data.\n",
    "                                   feature_names=['hrrange', 'hrmax', 'hrmin'], # labels on graphs\n",
    "                                   grid_resolution=10) # number of values to plot on x axis"
   ]
  },
  {
   "cell_type": "code",
   "execution_count": 56,
   "metadata": {},
   "outputs": [
    {
     "name": "stderr",
     "output_type": "stream",
     "text": [
      "//miniconda3/envs/PTSD/lib/python3.7/site-packages/sklearn/preprocessing/label.py:219: DataConversionWarning: A column-vector y was passed when a 1d array was expected. Please change the shape of y to (n_samples, ), for example using ravel().\n",
      "  y = column_or_1d(y, warn=True)\n",
      "//miniconda3/envs/PTSD/lib/python3.7/site-packages/sklearn/preprocessing/label.py:252: DataConversionWarning: A column-vector y was passed when a 1d array was expected. Please change the shape of y to (n_samples, ), for example using ravel().\n",
      "  y = column_or_1d(y, warn=True)\n",
      "//miniconda3/envs/PTSD/lib/python3.7/site-packages/mlxtend/evaluate/ttest.py:306: DataConversionWarning: A column-vector y was passed when a 1d array was expected. Please change the shape of y to (n_samples,), for example using ravel().\n",
      "  estimator2.fit(X_1, y_1)\n",
      "//miniconda3/envs/PTSD/lib/python3.7/site-packages/sklearn/preprocessing/label.py:219: DataConversionWarning: A column-vector y was passed when a 1d array was expected. Please change the shape of y to (n_samples, ), for example using ravel().\n",
      "  y = column_or_1d(y, warn=True)\n",
      "//miniconda3/envs/PTSD/lib/python3.7/site-packages/sklearn/preprocessing/label.py:252: DataConversionWarning: A column-vector y was passed when a 1d array was expected. Please change the shape of y to (n_samples, ), for example using ravel().\n",
      "  y = column_or_1d(y, warn=True)\n",
      "//miniconda3/envs/PTSD/lib/python3.7/site-packages/mlxtend/evaluate/ttest.py:306: DataConversionWarning: A column-vector y was passed when a 1d array was expected. Please change the shape of y to (n_samples,), for example using ravel().\n",
      "  estimator2.fit(X_1, y_1)\n",
      "//miniconda3/envs/PTSD/lib/python3.7/site-packages/sklearn/preprocessing/label.py:219: DataConversionWarning: A column-vector y was passed when a 1d array was expected. Please change the shape of y to (n_samples, ), for example using ravel().\n",
      "  y = column_or_1d(y, warn=True)\n",
      "//miniconda3/envs/PTSD/lib/python3.7/site-packages/sklearn/preprocessing/label.py:252: DataConversionWarning: A column-vector y was passed when a 1d array was expected. Please change the shape of y to (n_samples, ), for example using ravel().\n",
      "  y = column_or_1d(y, warn=True)\n",
      "//miniconda3/envs/PTSD/lib/python3.7/site-packages/mlxtend/evaluate/ttest.py:306: DataConversionWarning: A column-vector y was passed when a 1d array was expected. Please change the shape of y to (n_samples,), for example using ravel().\n",
      "  estimator2.fit(X_1, y_1)\n",
      "//miniconda3/envs/PTSD/lib/python3.7/site-packages/sklearn/preprocessing/label.py:219: DataConversionWarning: A column-vector y was passed when a 1d array was expected. Please change the shape of y to (n_samples, ), for example using ravel().\n",
      "  y = column_or_1d(y, warn=True)\n",
      "//miniconda3/envs/PTSD/lib/python3.7/site-packages/sklearn/preprocessing/label.py:252: DataConversionWarning: A column-vector y was passed when a 1d array was expected. Please change the shape of y to (n_samples, ), for example using ravel().\n",
      "  y = column_or_1d(y, warn=True)\n",
      "//miniconda3/envs/PTSD/lib/python3.7/site-packages/mlxtend/evaluate/ttest.py:306: DataConversionWarning: A column-vector y was passed when a 1d array was expected. Please change the shape of y to (n_samples,), for example using ravel().\n",
      "  estimator2.fit(X_1, y_1)\n",
      "//miniconda3/envs/PTSD/lib/python3.7/site-packages/sklearn/preprocessing/label.py:219: DataConversionWarning: A column-vector y was passed when a 1d array was expected. Please change the shape of y to (n_samples, ), for example using ravel().\n",
      "  y = column_or_1d(y, warn=True)\n",
      "//miniconda3/envs/PTSD/lib/python3.7/site-packages/sklearn/preprocessing/label.py:252: DataConversionWarning: A column-vector y was passed when a 1d array was expected. Please change the shape of y to (n_samples, ), for example using ravel().\n",
      "  y = column_or_1d(y, warn=True)\n",
      "//miniconda3/envs/PTSD/lib/python3.7/site-packages/mlxtend/evaluate/ttest.py:306: DataConversionWarning: A column-vector y was passed when a 1d array was expected. Please change the shape of y to (n_samples,), for example using ravel().\n",
      "  estimator2.fit(X_1, y_1)\n",
      "//miniconda3/envs/PTSD/lib/python3.7/site-packages/sklearn/preprocessing/label.py:219: DataConversionWarning: A column-vector y was passed when a 1d array was expected. Please change the shape of y to (n_samples, ), for example using ravel().\n",
      "  y = column_or_1d(y, warn=True)\n",
      "//miniconda3/envs/PTSD/lib/python3.7/site-packages/sklearn/preprocessing/label.py:252: DataConversionWarning: A column-vector y was passed when a 1d array was expected. Please change the shape of y to (n_samples, ), for example using ravel().\n",
      "  y = column_or_1d(y, warn=True)\n",
      "//miniconda3/envs/PTSD/lib/python3.7/site-packages/mlxtend/evaluate/ttest.py:306: DataConversionWarning: A column-vector y was passed when a 1d array was expected. Please change the shape of y to (n_samples,), for example using ravel().\n",
      "  estimator2.fit(X_1, y_1)\n",
      "//miniconda3/envs/PTSD/lib/python3.7/site-packages/sklearn/preprocessing/label.py:219: DataConversionWarning: A column-vector y was passed when a 1d array was expected. Please change the shape of y to (n_samples, ), for example using ravel().\n",
      "  y = column_or_1d(y, warn=True)\n",
      "//miniconda3/envs/PTSD/lib/python3.7/site-packages/sklearn/preprocessing/label.py:252: DataConversionWarning: A column-vector y was passed when a 1d array was expected. Please change the shape of y to (n_samples, ), for example using ravel().\n",
      "  y = column_or_1d(y, warn=True)\n",
      "//miniconda3/envs/PTSD/lib/python3.7/site-packages/mlxtend/evaluate/ttest.py:306: DataConversionWarning: A column-vector y was passed when a 1d array was expected. Please change the shape of y to (n_samples,), for example using ravel().\n",
      "  estimator2.fit(X_1, y_1)\n",
      "//miniconda3/envs/PTSD/lib/python3.7/site-packages/sklearn/preprocessing/label.py:219: DataConversionWarning: A column-vector y was passed when a 1d array was expected. Please change the shape of y to (n_samples, ), for example using ravel().\n",
      "  y = column_or_1d(y, warn=True)\n",
      "//miniconda3/envs/PTSD/lib/python3.7/site-packages/sklearn/preprocessing/label.py:252: DataConversionWarning: A column-vector y was passed when a 1d array was expected. Please change the shape of y to (n_samples, ), for example using ravel().\n",
      "  y = column_or_1d(y, warn=True)\n",
      "//miniconda3/envs/PTSD/lib/python3.7/site-packages/mlxtend/evaluate/ttest.py:306: DataConversionWarning: A column-vector y was passed when a 1d array was expected. Please change the shape of y to (n_samples,), for example using ravel().\n",
      "  estimator2.fit(X_1, y_1)\n",
      "//miniconda3/envs/PTSD/lib/python3.7/site-packages/sklearn/preprocessing/label.py:219: DataConversionWarning: A column-vector y was passed when a 1d array was expected. Please change the shape of y to (n_samples, ), for example using ravel().\n",
      "  y = column_or_1d(y, warn=True)\n",
      "//miniconda3/envs/PTSD/lib/python3.7/site-packages/sklearn/preprocessing/label.py:252: DataConversionWarning: A column-vector y was passed when a 1d array was expected. Please change the shape of y to (n_samples, ), for example using ravel().\n",
      "  y = column_or_1d(y, warn=True)\n",
      "//miniconda3/envs/PTSD/lib/python3.7/site-packages/mlxtend/evaluate/ttest.py:306: DataConversionWarning: A column-vector y was passed when a 1d array was expected. Please change the shape of y to (n_samples,), for example using ravel().\n",
      "  estimator2.fit(X_1, y_1)\n",
      "//miniconda3/envs/PTSD/lib/python3.7/site-packages/sklearn/preprocessing/label.py:219: DataConversionWarning: A column-vector y was passed when a 1d array was expected. Please change the shape of y to (n_samples, ), for example using ravel().\n",
      "  y = column_or_1d(y, warn=True)\n",
      "//miniconda3/envs/PTSD/lib/python3.7/site-packages/sklearn/preprocessing/label.py:252: DataConversionWarning: A column-vector y was passed when a 1d array was expected. Please change the shape of y to (n_samples, ), for example using ravel().\n",
      "  y = column_or_1d(y, warn=True)\n",
      "//miniconda3/envs/PTSD/lib/python3.7/site-packages/mlxtend/evaluate/ttest.py:306: DataConversionWarning: A column-vector y was passed when a 1d array was expected. Please change the shape of y to (n_samples,), for example using ravel().\n",
      "  estimator2.fit(X_1, y_1)\n"
     ]
    },
    {
     "name": "stdout",
     "output_type": "stream",
     "text": [
      "t statistic: -23.459\n",
      "p value: 0.000\n"
     ]
    }
   ],
   "source": [
    "from mlxtend.evaluate import paired_ttest_5x2cv\n",
    "\n",
    "\n",
    "t, p = paired_ttest_5x2cv(estimator1=clf,\n",
    "                          estimator2=clfrf,\n",
    "                          X=X_trainups, y=y_trainups,\n",
    "                          random_seed=1)\n",
    "\n",
    "print('t statistic: %.3f' % t)\n",
    "print('p value: %.3f' % p)"
   ]
  },
  {
   "cell_type": "code",
   "execution_count": null,
   "metadata": {},
   "outputs": [],
   "source": []
  },
  {
   "cell_type": "code",
   "execution_count": null,
   "metadata": {},
   "outputs": [],
   "source": []
  }
 ],
 "metadata": {
  "kernelspec": {
   "display_name": "Python 3",
   "language": "python",
   "name": "python3"
  },
  "language_info": {
   "codemirror_mode": {
    "name": "ipython",
    "version": 3
   },
   "file_extension": ".py",
   "mimetype": "text/x-python",
   "name": "python",
   "nbconvert_exporter": "python",
   "pygments_lexer": "ipython3",
   "version": "3.7.4"
  }
 },
 "nbformat": 4,
 "nbformat_minor": 2
}

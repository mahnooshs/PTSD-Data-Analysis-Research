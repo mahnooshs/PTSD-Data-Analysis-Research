{
 "cells": [
  {
   "cell_type": "code",
   "execution_count": 10,
   "metadata": {},
   "outputs": [],
   "source": [
    "\n",
    "import numpy as np\n",
    "import pandas as pd\n",
    "%matplotlib inline\n",
    "import glob\n",
    "import keras\n",
    "from functools import reduce"
   ]
  },
  {
   "cell_type": "code",
   "execution_count": 11,
   "metadata": {},
   "outputs": [],
   "source": [
    "path = r'/Users/mahnooshsadeghi/Desktop/PTSD/PTSD Data/Kalman Imputed Data' # use your path\n",
    "all_files = glob.glob(path + \"/*.csv\")"
   ]
  },
  {
   "cell_type": "code",
   "execution_count": 12,
   "metadata": {},
   "outputs": [],
   "source": [
    "participant=1\n",
    "li=[]"
   ]
  },
  {
   "cell_type": "code",
   "execution_count": 13,
   "metadata": {},
   "outputs": [
    {
     "data": {
      "text/plain": [
       "'/Users/mahnooshsadeghi/Documents/GitHub/PTSD-Data-Analysis-Research'"
      ]
     },
     "execution_count": 13,
     "metadata": {},
     "output_type": "execute_result"
    }
   ],
   "source": [
    "import os\n",
    "os.getcwd()"
   ]
  },
  {
   "cell_type": "code",
   "execution_count": 14,
   "metadata": {},
   "outputs": [
    {
     "name": "stderr",
     "output_type": "stream",
     "text": [
      "//miniconda3/envs/PTSD/lib/python3.7/site-packages/ipykernel_launcher.py:11: SettingWithCopyWarning: \n",
      "A value is trying to be set on a copy of a slice from a DataFrame\n",
      "\n",
      "See the caveats in the documentation: http://pandas.pydata.org/pandas-docs/stable/user_guide/indexing.html#returning-a-view-versus-a-copy\n",
      "  # This is added back by InteractiveShellApp.init_path()\n",
      "//miniconda3/envs/PTSD/lib/python3.7/site-packages/ipykernel_launcher.py:5: SettingWithCopyWarning: \n",
      "A value is trying to be set on a copy of a slice from a DataFrame\n",
      "\n",
      "See the caveats in the documentation: http://pandas.pydata.org/pandas-docs/stable/user_guide/indexing.html#returning-a-view-versus-a-copy\n",
      "  \"\"\"\n"
     ]
    }
   ],
   "source": [
    "for filename in all_files:\n",
    "    df = pd.read_csv(filename, index_col=None, header=0)\n",
    "    l=df.index[df['ptsd_moment'] == 'STRESSMOMENT'].tolist()\n",
    "    for i in l:\n",
    "        df.ptsd_moment[i-30: i+30]= 'STRESSMOMENT'\n",
    "    #df['participant']=participant\n",
    "    df['windowno']= -1\n",
    "    j=0\n",
    "    k=1\n",
    "    while j<len(df.index)-59:\n",
    "        df['windowno'][j:j+60]=k\n",
    "        j=j+60\n",
    "        k=k+1\n",
    "    df1=df.dropna(axis=0, subset=['hr'])\n",
    "    df1 = df1.reset_index(drop=True)\n",
    "    count =  df1.groupby('windowno', as_index=False)['hr'].size()\n",
    "    for i in df1.windowno:\n",
    "        if count[i]<40:\n",
    "            df1=df1[df1.windowno != i ]\n",
    "    df1.loc[df1.ptsd_moment != 'STRESSMOMENT', 'ptsd_moment'] = 0\n",
    "    df1.loc[df1.ptsd_moment == 'STRESSMOMENT', 'ptsd_moment'] = 1\n",
    "    df1['participant']=participant\n",
    "    df1.to_csv ('Windowed Participant' + str(participant) + '.csv', index = None, header=True)#Don't forget to add '.csv' at the end of the path\n",
    "    participant=participant+1"
   ]
  }
 ],
 "metadata": {
  "kernelspec": {
   "display_name": "Python 3",
   "language": "python",
   "name": "python3"
  },
  "language_info": {
   "codemirror_mode": {
    "name": "ipython",
    "version": 3
   },
   "file_extension": ".py",
   "mimetype": "text/x-python",
   "name": "python",
   "nbconvert_exporter": "python",
   "pygments_lexer": "ipython3",
   "version": "3.7.4"
  }
 },
 "nbformat": 4,
 "nbformat_minor": 2
}
